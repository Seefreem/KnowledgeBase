{
 "cells": [
  {
   "cell_type": "markdown",
   "metadata": {},
   "source": [
    "Modified teaching materials from Scientific programming (7.5 ECTS) of MSc Programme in IT and Cognition. The lecturer is Ali Basirat (alib@hum.ku.dk). \n"
   ]
  },
  {
   "cell_type": "markdown",
   "metadata": {},
   "source": [
    "基础运算：\n",
    "It also provides an easy, straightforward, and intuitive syntax for arithmatics. It supports all the standard arithmetic operators: \n",
    "   * addition `a + b`\n",
    "   * subtraction `a - b`\n",
    "   * multiplication `a * b`\n",
    "   * classic division `a / b`\n",
    "   * floor division `a // b` 取整除法\n",
    "   * remainder of dividing `a % b`\n",
    "   * exponentiation `a ** b`"
   ]
  },
  {
   "cell_type": "markdown",
   "metadata": {},
   "source": [
    "### List extension\n",
    "连接两个列表，列表扩展  \n",
    "Python provides two tools to extend a list with another list:\n",
    "  + the built-in function `extend` (usage: `list_a.extend(list_b)`)\n",
    "  + the operator `+` (usage: `list_a = list_a + list_b`)\n",
    "\n",
    "注意区别，extend是原位扩展，而加号是新建一个list对象。"
   ]
  },
  {
   "cell_type": "markdown",
   "metadata": {},
   "source": [
    "### Insert objects into a list\n",
    "插入元素到列表中  \n",
    " + Python provides the function `insert(index, object)` to insert the object `object` at the position `index`. \n",
    " + The function shifts the other elements to open space for the object at the target position.\n",
    "\n",
    "Let's insert the Jave specification right before Go.\n",
    " + First, find the position index of Go.\n",
    " + Then insert the elements of the Java specification one by one at that position."
   ]
  },
  {
   "cell_type": "code",
   "execution_count": 1,
   "metadata": {},
   "outputs": [
    {
     "name": "stdout",
     "output_type": "stream",
     "text": [
      "['Rust', 'Java', 'James Gosling', 1995, 'Graydon Hoare', 2015]\n"
     ]
    }
   ],
   "source": [
    "languages = ['Rust', 'Graydon Hoare', 2015]\n",
    "languages.insert(-2, 'Java')\n",
    "languages.insert(-2, 'James Gosling')\n",
    "languages.insert(-2, 1995)\n",
    "print(languages)"
   ]
  },
  {
   "cell_type": "markdown",
   "metadata": {},
   "source": [
    "### Drop objects from a list\n",
    "  + The `pop(index)` function removes the element at the position index from a list.\n",
    "  + The function shifts the other elements to fill the empty space at the position."
   ]
  },
  {
   "cell_type": "code",
   "execution_count": 2,
   "metadata": {},
   "outputs": [
    {
     "name": "stdout",
     "output_type": "stream",
     "text": [
      "['Java', 'James Gosling', 1995, 'Graydon Hoare', 2015]\n",
      "['Rust', 'Java', 'James Gosling', 1995, 'Graydon Hoare', 2015]\n"
     ]
    }
   ],
   "source": [
    "item = languages.pop(0) # 删除列表元素\n",
    "print(languages)\n",
    "# return the item back to the list\n",
    "languages.insert(0, item)\n",
    "print(languages)"
   ]
  },
  {
   "cell_type": "markdown",
   "metadata": {},
   "source": [
    "### Sort a list\n",
    "列表排序  \n",
    " + The `sort` function is used to sort a list. \n",
    " + The function sorts a list in-place and takes two optional arguments:\n",
    "   * `reverse` is a boolean parameter\n",
    "     - True: descending sort\n",
    "     - False: ascending sort.\n",
    "   * `key` specifies the key for the sort comparison. \n",
    "     - It is a function that maps every element in the list into a comparable value. \n",
    "     - The actual sort is then performed based on the values returned by the function.  "
   ]
  },
  {
   "cell_type": "code",
   "execution_count": 4,
   "metadata": {},
   "outputs": [
    {
     "name": "stdout",
     "output_type": "stream",
     "text": [
      "The shuffled list is  [1995, 2015]\n",
      "Descending order  [2015, 1995]\n",
      "Ascending order  [1995, 2015]\n"
     ]
    }
   ],
   "source": [
    "# Let's extract the years from the list of languages, shuffle them and sort them ascendingly and descendingly\n",
    "years = languages[3::2] # slicing, 列表切片，[3::2]表示从index=3开始，到最后一个元素，step为2\n",
    "import random\n",
    "random.shuffle(years)\n",
    "print('The shuffled list is ', years)\n",
    "years.sort(reverse=True)\n",
    "print('Descending order ', years)\n",
    "years.sort(reverse=False)\n",
    "print('Ascending order ', years)"
   ]
  },
  {
   "cell_type": "markdown",
   "metadata": {},
   "source": [
    "### `sorted`\n",
    "  + Python also provides a built-in function `sorted` to sort a collection of comparable objects. \n",
    "  + The function takes three arguments:\n",
    "    1) The collection to be sorted (for example, a list of items)\n",
    "    2) A boolean parameter `reverse` which indicates the sort order (True: descending, False: ascending)\n",
    "    3) A `key` function to evaluate each list element before the comparisons between list elements    \n",
    "  + Note that the function `sorted` is not an in-placed function. It means that you need to bind a variable to its output."
   ]
  },
  {
   "cell_type": "code",
   "execution_count": 5,
   "metadata": {},
   "outputs": [
    {
     "name": "stdout",
     "output_type": "stream",
     "text": [
      "['Rust', 'Java', 'James Gosling']\n"
     ]
    }
   ],
   "source": [
    "# Let's sort the list `names` based on the string length using the `sorted` function \n",
    "names = languages[0:3]\n",
    "sorted_names = sorted(names, key=len)\n",
    "print(sorted_names)"
   ]
  },
  {
   "cell_type": "markdown",
   "metadata": {},
   "source": [
    "A single integer in Python 3.4 actually contains four pieces:  \n",
    "一个整型对象包含的内容：  \n",
    " * ob_refcnt, a reference count that helps Python silently handle memory allocation and deallocation 内存索引计数器\n",
    " * ob_type, which encodes the type of the variable 数据类型\n",
    " * ob_size, which specifies the size of the following data members 内存大小\n",
    " * ob_digit, which contains the actual integer value that we expect the Python variable to represent 数据值"
   ]
  },
  {
   "cell_type": "markdown",
   "metadata": {},
   "source": [
    "- Other built-in functions operating on the list data structure:\n",
    "    * `list.index(item)` returns the position of the element `item` in the list `Lst` 查找元素的index\n",
    "    * `list.remove(item)` removes the element `item` from the list `Lst` 删除指定元素\n",
    "    * `list.append(item)` append `item` to the end of the list `Lst` \n",
    "    * `list.clear()` removes all elements from the list `Lst`\n",
    "    * `list.count(item)` counts the number of times the element `item` appears in the list `Lst` 元素计数\n",
    "    * `list.copy()` returns a *shallow* copy of the list `Lst`  复制\n",
    "\n",
    "    注意，这里的shallow实际上是指直接复制list的元素的值，而并不处理值的实际含义，值可能是一个指针。\n",
    "    这里的copy对于这个list而言是深拷贝。与赋值语句不一样。\n",
    "    * More information is <a href=https://docs.python.org/3/tutorial/datastructures.html>here</a>. "
   ]
  },
  {
   "cell_type": "code",
   "execution_count": null,
   "metadata": {},
   "outputs": [],
   "source": [
    "def is_contain_chinese(check_str):\n",
    "    \"\"\"\n",
    "    判断字符串中是否包含中文\n",
    "    :param check_str: {str} 需要检测的字符串\n",
    "    :return: {bool} 包含返回True， 不包含返回False\n",
    "    \"\"\"\n",
    "    for ch in check_str:\n",
    "        if u'\\u4e00' <= ch <= u'\\u9fff':\n",
    "            return True\n",
    "    return False\n",
    "\n",
    "def is_decimal(check_str):\n",
    "    \"\"\"\n",
    "    判断字符串中是否包含中文\n",
    "    :param check_str: {str} 需要检测的字符串\n",
    "    :return: {bool} 包含返回True， 不包含返回False\n",
    "    \"\"\"\n",
    "    for ch in check_str:\n",
    "        if '0' <= ch <= '9' or ch == '.':\n",
    "            pass\n",
    "        else :\n",
    "            return False;\n",
    "    return True;"
   ]
  },
  {
   "cell_type": "code",
   "execution_count": null,
   "metadata": {},
   "outputs": [],
   "source": [
    "\n",
    "# python 调试方法之打印函数调用栈，这样能很方便我们了解程序的运行栈，能有效加快我们熟悉一个新的系统的进度。\n",
    "# https://blog.csdn.net/wangyiyan315/article/details/122629255\n",
    "\n",
    "# 导入traceback模块\n",
    "import traceback\n",
    "# 在代码里需要调试的地方放一个traceback.print_stack()\n",
    "traceback.print_stack()\n",
    "# python 调试方法之——修改代码之后，程序运行结果不变，在jupyter中，修改了依赖库中的代码，但是运行自己的代码时，程序的输出还是不变。\n",
    "# 可能的原因是：因为jupyter在运行时会加载依赖库到内存中。但是我们修改了的库保存在磁盘中。所以并不会对已经加载的库产生影响。因此需要重新启动jupyter内核。\n"
   ]
  },
  {
   "cell_type": "code",
   "execution_count": null,
   "metadata": {},
   "outputs": [],
   "source": [
    "\n",
    "'''\n",
    "python中变量前面加星号*\n",
    "python中变量前面加两个星号**\n",
    "列表或元组前面加星号作用是将列表解开成两个独立的参数，传入函数；\n",
    "\n",
    "字典前面加两个星号，是将字典的值解开成独立的元素作为形参。\n",
    "https://blog.csdn.net/Michael_Well/article/details/107071344\n",
    "\n",
    "所以深度学习的 model(**data)\n",
    "其实就是将data字典中的values列出来，作为参数传递给model的forward函数。那么其实我要修改传递什么参数进去就很简单了，\n",
    "第一是修改data中的values，第二是修改forward函数的参数即可。\n",
    "'''\n",
    "\n",
    "def add(x,y):\n",
    "\treturn x+y\n",
    "b = [1,4]\n",
    "e = (2,3)\n",
    "add(*e)\n",
    "add(*b)\n",
    "# >>> 5\n",
    "# >>> 5\n",
    "\n",
    "def add(x,y):\n",
    "\treturn x+y\n",
    "d= {'a' : 2, 'b' : 3}\n",
    "add(**data)\n",
    "# >>> 5"
   ]
  },
  {
   "cell_type": "markdown",
   "metadata": {},
   "source": [
    "## Regular expression \n",
    "\n",
    "+ Regular expressions deal with pattern matching in strings\n",
    "+ The `re` module provides the operations required for regular expression\n",
    "+ We study regular expression syntax and functions\n",
    "\n",
    "## Regular expression syntax\n",
    "\n",
    "+ A regular expression defines a set of strings that matches a pattern\n",
    "+ A regular expression is formed by a sequence of characters categorized into two groups:\n",
    "  * Ordinary characters\n",
    "  * Special characters \n",
    "\n",
    "  ### Regular expression with ordinary characters\n",
    "\n",
    "+ Ordinary characters like alphanumeric letters match themselves\n",
    "+ Examples\n",
    "  * The string `'a'` is a regular expression that mathces itself\n",
    "  * The string `'Python'` is a regular expression that matches itself"
   ]
  },
  {
   "cell_type": "markdown",
   "metadata": {},
   "source": [
    "### Regular expression with special characters\n",
    "\n",
    "+ Special characters can be categorized in two classes: \n",
    "  * The characters that match a class of ordinary characters \n",
    "    + Examples\n",
    "      * `[]` indicates a set of characters (e.g., `[ab]` matches a or b)\n",
    "      * `'\\d'` matches any decimal digit. Sort of equivalent to `[0-9]`\n",
    "      * `'\\D'` matches any non-digit character. Sort of equivalent to `[^0-9]` '^'表示除了，集合补集\n",
    "      * `'\\s'` matches any whitespace character. Sort of equivalent to `[ \\t\\n\\r\\f\\v]`\n",
    "      * `'\\S'` matches any non-whitespace character. Sort of equivalent to `[^ \\t\\n\\r\\f\\v]` \n",
    "      * `'\\w'` matches any alphanumeric character. Sort of equivalent to `[a-zA-Z0-9_]`\n",
    "      * `'\\W'` matches any non-alphanumeric character. Sort of equivalent to `[^a-zA-Z0-9_]`\n",
    "      * `'.'` matches any character except a newline `'\\n'`\n",
    "      * `'^'` matches the start of string\n",
    "      * The doller sign matches the end of string\n",
    "  * The characters that are used for different interpretation of other characters in the regular expression \n",
    "    + Examples\n",
    "      * `{m}` matches $m$ repetitions of the previous RE (e.g., `'a{10}'` matches ten $a$s.\n",
    "      * `{m,n}` matches $m$ to $n$ repetitions of the previous RE\n",
    "      * `?` matches zero or one repetitions of the previous RE\n",
    "      * `*` matches zero or more repetitions of the previous RE\n",
    "      * `+` matches one or more repetitions of the previous RE\n",
    "\n",
    "For more information, the Python reference can be checked at https://docs.python.org/3/library/re.html  \n",
    "  "
   ]
  },
  {
   "cell_type": "markdown",
   "metadata": {},
   "source": [
    "## `re` module\n",
    "\n",
    "+ We focus on the following operations: \n",
    "  * `re.search`\n",
    "  * `re.findall`\n",
    "  * `re.split`\n",
    "  * `re.sub`\n",
    "  * `re.compile`\n",
    "\n",
    "Let's suppose that any word ending with an *ng* is a gerund.  \n",
    "Then, if we want to find out if a sentence has a gerund, what can we do?"
   ]
  },
  {
   "cell_type": "markdown",
   "metadata": {},
   "source": [
    "### `re.search(pattern, string)`  \n",
    "`help(re.search)`  \n",
    "Scan through string looking for the first match to the pattern, returning a *match object*, or None if no match was found.`"
   ]
  },
  {
   "cell_type": "code",
   "execution_count": 6,
   "metadata": {},
   "outputs": [
    {
     "name": "stdout",
     "output_type": "stream",
     "text": [
      "<re.Match object; span=(12, 15), match='ng '>\n",
      "12\n",
      "15\n",
      "(12, 15)\n"
     ]
    }
   ],
   "source": [
    "import re\n",
    "sentence = \"I like driving cars.\"\n",
    "match = re.search(\"ng \", sentence) # 字符串搜索，正则表达式搜索\n",
    "# read more about the match output: https://docs.python.org/3/library/re.html#re.Match\n",
    "\n",
    "if match:\n",
    "    print (match)\n",
    "else:\n",
    "    print('pattern not found')\n",
    "\n",
    "print (match.start())\n",
    "print (match.end())\n",
    "print (match.span())"
   ]
  },
  {
   "cell_type": "code",
   "execution_count": 7,
   "metadata": {},
   "outputs": [
    {
     "name": "stdout",
     "output_type": "stream",
     "text": [
      "<re.Match object; span=(12, 15), match='ng '>\n"
     ]
    }
   ],
   "source": [
    "# The flags argument enables various unique features and syntax variations.\n",
    "# For example, we can make the search case insensitive with flags=re.I\n",
    "# You can read more about flags in https://docs.python.org/3/library/re.html#flags\n",
    "match = re.search(\"NG \", sentence, flags=re.I) # 大小写不敏感的搜索\n",
    "if match:\n",
    "    print (match)\n",
    "else:\n",
    "    print('pattern not found')"
   ]
  }
 ],
 "metadata": {
  "kernelspec": {
   "display_name": "base",
   "language": "python",
   "name": "python3"
  },
  "language_info": {
   "codemirror_mode": {
    "name": "ipython",
    "version": 3
   },
   "file_extension": ".py",
   "mimetype": "text/x-python",
   "name": "python",
   "nbconvert_exporter": "python",
   "pygments_lexer": "ipython3",
   "version": "3.11.4"
  }
 },
 "nbformat": 4,
 "nbformat_minor": 2
}
