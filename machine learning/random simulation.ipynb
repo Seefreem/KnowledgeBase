{
 "cells": [
  {
   "cell_type": "markdown",
   "metadata": {
    "slideshow": {
     "slide_type": "slide"
    }
   },
   "source": [
    "<img src=\"https://designguide.ku.dk/download/co-branding/ku_logo_uk_h.png\" alt=\"University logo\" width=\"300\" align=\"right\"/>"
   ]
  },
  {
   "cell_type": "markdown",
   "metadata": {},
   "source": [
    "Modified teaching materials from Scientific programming (7.5 ECTS) of MSc Programme in IT and Cognition. The lecturer is Ali Basirat (alib@hum.ku.dk). \n"
   ]
  },
  {
   "cell_type": "markdown",
   "metadata": {
    "slideshow": {
     "slide_type": "subslide"
    }
   },
   "source": [
    "## Exercise\n",
    "\n",
    "Approximating the number $\\pi$ with random numbers using Monte-Carlo circle.\n",
    "\n",
    "\n",
    "<a href=http://www.eveandersson.com/pi/monte-carlo-circle>Calculation of Pi Using the Monte Carlo Method</a> \n",
    "\n",
    "If a circle of radius $R$ is inscribed inside a square with side length $2R$, and if you pick $N$ points at random inside the square, approximately $N*pi/4$ of those points should fall inside a circle.  \n",
    "\n",
    "Your program should pick points at random inside the square. It then checks to see if the point is inside the circle (it knows it's inside the circle if $x^2 + y^2 < R^2$, where x and y are the coordinates of the point and R is the radius of the circle). The program should keep track of how many points it's picked so far (N) and how many of those points fell inside the circle (M).\n",
    "\n",
    "Pi is then approximated as follows: $pi = \\frac{4M}{N}$"
   ]
  },
  {
   "cell_type": "code",
   "execution_count": null,
   "metadata": {
    "slideshow": {
     "slide_type": "fragment"
    }
   },
   "outputs": [
    {
     "name": "stdout",
     "output_type": "stream",
     "text": [
      "<class 'numpy.ndarray'>\n",
      "3.14178832\n"
     ]
    }
   ],
   "source": [
    "# YOUR CODE HERE\n",
    "r = 1\n",
    "n = 1000000\n",
    "x_samples = np.random.random(size=n)\n",
    "np.random.seed(12414)\n",
    "y_samples = np.random.random(size=n)\n",
    "# print(x_samples.shape)\n",
    "squ_dis = x_samples**2 + y_samples**2\n",
    "inside = squ_dis[squ_dis < r * r]\n",
    "print(type(inside))\n",
    "m = len(inside)\n",
    "pi = 4 * m / n\n",
    "print(pi)"
   ]
  },
  {
   "cell_type": "markdown",
   "metadata": {
    "slideshow": {
     "slide_type": "subslide"
    }
   },
   "source": [
    "## Exercise (depending on time):\n",
    "\n",
    "There is a card game, in which you have a card deck with 40 cards, which you get by considering the [standard 52-card deck](https://en.wikipedia.org/wiki/Standard_52-card_deck) and removing the *Jack*, the *Queen* and the *King*.\n",
    "\n",
    "For each game you shuffle the deck and you start taking a card at each turn. When you take a card you also count numbers from 1 to 10. If the number of the card that you took and the number you are saying are the same, the game is over. If you run out of cards, and thus, you count from 1 to 10 four times, you win that game.\n",
    "\n",
    "If we play to this game 10,000 times, how often would we win?\n",
    "\n",
    "Simulate this using `numpy`."
   ]
  },
  {
   "cell_type": "code",
   "execution_count": null,
   "metadata": {
    "slideshow": {
     "slide_type": "fragment"
    }
   },
   "outputs": [
    {
     "name": "stdout",
     "output_type": "stream",
     "text": [
      "[ 1  2  3  4  5  6  7  8  9 10]\n",
      "[ 1  2  3  4  5  6  7  8  9 10  1  2  3  4  5  6  7  8  9 10  1  2  3  4\n",
      "  5  6  7  8  9 10  1  2  3  4  5  6  7  8  9 10]\n",
      "probility:  0.9838\n"
     ]
    }
   ],
   "source": [
    "# YOUR CODE HERE\n",
    "import time\n",
    "numbers = np.arange(1, 11)\n",
    "print(numbers)\n",
    "cards = np.concatenate((numbers, numbers, numbers, numbers))\n",
    "counts = cards.copy()\n",
    "print(cards)\n",
    "win_round = 0\n",
    "total_round = 10000\n",
    "for i in range(total_round):\n",
    "    # 获取当前时间戳，单位为纳秒\n",
    "    timestamp_nanoseconds = time.time_ns()\n",
    "    # print(timestamp_nanoseconds)\n",
    "    np.random.seed(timestamp_nanoseconds % 1000)\n",
    "    np.random.shuffle(cards)\n",
    "    # print(\"cards:\", cards)\n",
    "    # print(\"counts:\", counts)\n",
    "    guess = counts[counts == cards]\n",
    "    # print(\"guess:\", guess)\n",
    "    if len(guess) > 0:\n",
    "        win_round += 1\n",
    "print(\"probility: \", win_round / total_round)\n"
   ]
  },
  {
   "cell_type": "markdown",
   "metadata": {},
   "source": [
    "# Summary\n",
    "\n",
    "+ Numpy: a powerful library for numeric calculation\n",
    "+ Array: an efficient replacement for lists\n",
    "+ Linear algebra with Numpy - vector, matrix, addition, and multiplication\n",
    "+ Spam detection\n",
    "+ Parametric functions\n",
    "+ Random numbers"
   ]
  }
 ],
 "metadata": {
  "celltoolbar": "Slideshow",
  "kernelspec": {
   "display_name": "base",
   "language": "python",
   "name": "python3"
  },
  "language_info": {
   "codemirror_mode": {
    "name": "ipython",
    "version": 3
   },
   "file_extension": ".py",
   "mimetype": "text/x-python",
   "name": "python",
   "nbconvert_exporter": "python",
   "pygments_lexer": "ipython3",
   "version": "3.11.4"
  }
 },
 "nbformat": 4,
 "nbformat_minor": 2
}
