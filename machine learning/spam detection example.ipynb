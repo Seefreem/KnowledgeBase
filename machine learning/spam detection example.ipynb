{
 "cells": [
  {
   "cell_type": "markdown",
   "metadata": {
    "slideshow": {
     "slide_type": "slide"
    }
   },
   "source": [
    "<img src=\"https://designguide.ku.dk/download/co-branding/ku_logo_uk_h.png\" alt=\"University logo\" width=\"300\" align=\"right\"/>"
   ]
  },
  {
   "cell_type": "markdown",
   "metadata": {},
   "source": [
    "Modified teaching materials from Scientific programming (7.5 ECTS) of MSc Programme in IT and Cognition. The lecturer is Ali Basirat (alib@hum.ku.dk). \n"
   ]
  },
  {
   "cell_type": "markdown",
   "metadata": {
    "slideshow": {
     "slide_type": "slide"
    }
   },
   "source": [
    "### Matrix multiplication"
   ]
  },
  {
   "cell_type": "markdown",
   "metadata": {
    "slideshow": {
     "slide_type": "subslide"
    }
   },
   "source": [
    "Let's start by a classification problem.\n",
    "\n",
    "Spam detection! We want to determine if an email is a spam or not."
   ]
  },
  {
   "cell_type": "markdown",
   "metadata": {
    "slideshow": {
     "slide_type": "subslide"
    }
   },
   "source": [
    "Our task!\n",
    "\n",
    "List of e-mails:\n",
    " * Email1: new offer . buy cheap viagra in our online shop\n",
    " * Email2: sweety i will arrive home late cheers i love you\n",
    " * Email3: the department meeting will be delayed until tomorrow because i will be ill\n",
    " * Email4: in our classes we will learn how to deal with drug dealers and young teenagers"
   ]
  },
  {
   "cell_type": "markdown",
   "metadata": {
    "slideshow": {
     "slide_type": "fragment"
    }
   },
   "source": [
    "Given that data, we must decide if each message is Spam or not"
   ]
  },
  {
   "cell_type": "markdown",
   "metadata": {
    "slideshow": {
     "slide_type": "fragment"
    }
   },
   "source": [
    "And, not only that, but also which e-mails are actually from work."
   ]
  },
  {
   "cell_type": "markdown",
   "metadata": {
    "slideshow": {
     "slide_type": "subslide"
    }
   },
   "source": [
    " ### First step\n",
    " \n",
    " Represent the data as a sparse matrix.\n",
    " \n",
    "\n",
    "| WORDS | and | the | house | meeting | shop | love | arrive | ... |\n",
    "|:-----:|:-----:|:-----:|:-----:|:-----:|:-----:|:-----:|:-----:|:-----:|\n",
    "|EMAIL 1 | 5 | 3 | 1 | 0 | 0 | 2 | 1 | 1 |\n",
    "|EMAIL 2 | 7 | 6 | 2 | 0 | 0 | 2 | 1 | 1 |\n",
    "|EMAIL 3 | 8 | 3 | 0 | 4 | 0 | 2 | 1 | 1 |\n",
    "|EMAIL 4 | 6 | 4 | 0 | 0 | 0 | 0 | 1 | 1 |"
   ]
  },
  {
   "cell_type": "markdown",
   "metadata": {
    "slideshow": {
     "slide_type": "fragment"
    }
   },
   "source": [
    " ### Second step\n",
    " \n",
    " Define a weight vector, which will measure the relationship of a word with the property we want to assign (\"spamness\", \"workness\", ...)\n",
    " \n",
    "| WORDS | viagra | arrive | sex | offer | house | and | the | ... |\n",
    "|:-----|:-----:|:-----:|:-----:|:-----:|:-----:|:-----:|:-----:|:-----:|\n",
    "| Spam-weights | 0.9 | 0.3 | 0.7 | 0.8 | 0.3 | 0.1 | 0.05 | ... |\n",
    "| Work-weights | ... | ... | ... | ... | ... | ... | ... | ... |"
   ]
  },
  {
   "cell_type": "markdown",
   "metadata": {
    "slideshow": {
     "slide_type": "fragment"
    }
   },
   "source": [
    "<center>The point, now, is to learn how to combine this information</center>"
   ]
  },
  {
   "cell_type": "markdown",
   "metadata": {
    "slideshow": {
     "slide_type": "subslide"
    }
   },
   "source": [
    "# Linear Algebra"
   ]
  },
  {
   "cell_type": "markdown",
   "metadata": {},
   "source": [
    "## Vector\n",
    "\n",
    "+ A single dimensional array of numbers\n",
    "+ Useful for representing each email\n",
    "\n",
    "\n",
    "EMAIL_1 = $\\begin{pmatrix}\n",
    "  5 \\\\ 3 \\\\ 1 \\\\ 0 \\\\ 0 \\\\ 2 \\\\ 1 \\\\ 1 \\\\ . \\\\ . \\\\ . \\\\\n",
    "\\end{pmatrix}$"
   ]
  },
  {
   "cell_type": "markdown",
   "metadata": {
    "slideshow": {
     "slide_type": "subslide"
    }
   },
   "source": [
    "## Matrix \n",
    "\n",
    "+ A two dimensional array of numbers.\n",
    "+ Useful for representing a batch of documents and weight vectors\n",
    "\n",
    "\n",
    "EMAILS = $\\begin{pmatrix}\n",
    "  5 & 7 & 8 & 6 \\\\ \n",
    "  3 & 6 & 3 & 4 \\\\ \n",
    "  1 & 2 & 0 & 0 \\\\ \n",
    "  0 & 0 & 4 & 0 \\\\ \n",
    "  0 & 0 & 0 & 0 \\\\ \n",
    "  2 & 2 & 2 & 0 \\\\ \n",
    "  1 & 1 & 1 & 1 \\\\\n",
    "  & & ... & \\\\\n",
    "\\end{pmatrix}$"
   ]
  },
  {
   "cell_type": "markdown",
   "metadata": {
    "slideshow": {
     "slide_type": "subslide"
    }
   },
   "source": [
    "We can add matrices:\n",
    "    \n",
    "$\\begin{pmatrix}\n",
    "  5 & 9 \\\\ 1 & 2 \\\\\n",
    "\\end{pmatrix}\n",
    "+\n",
    "\\begin{pmatrix}\n",
    "  1 & 2 \\\\ 3 & 4 \\\\\n",
    "\\end{pmatrix}\n",
    "=\\begin{pmatrix}\n",
    "  6 & 11 \\\\ 4 & 6 \\\\\n",
    "\\end{pmatrix}\n",
    "$\n",
    "\n",
    "We add the matrices elementwise."
   ]
  },
  {
   "cell_type": "markdown",
   "metadata": {
    "slideshow": {
     "slide_type": "fragment"
    }
   },
   "source": [
    "The sum of matrices is commutative:\n",
    "\n",
    "$\\begin{pmatrix}\n",
    "  1 & 2 \\\\ 3 & 4 \\\\\n",
    "\\end{pmatrix}\n",
    "+\n",
    "\\begin{pmatrix}\n",
    "  5 & 9 \\\\ 1 & 2 \\\\\n",
    "\\end{pmatrix}\n",
    "=\\begin{pmatrix}\n",
    "  6 & 11 \\\\ 4 & 6 \\\\\n",
    "\\end{pmatrix}\n",
    "$\n"
   ]
  },
  {
   "cell_type": "markdown",
   "metadata": {
    "slideshow": {
     "slide_type": "subslide"
    }
   },
   "source": [
    "We can also multiply a matrix with a scalar. We get the result multiplying each element with the scalar:\n",
    "\n",
    "$3\n",
    "*\n",
    "\\begin{pmatrix}\n",
    "  1 & 2 \\\\ 3 & 4 \\\\\n",
    "\\end{pmatrix}\n",
    "=\\begin{pmatrix}\n",
    "  3 & 6 \\\\ 9 & 12 \\\\\n",
    "\\end{pmatrix}\n",
    "$"
   ]
  },
  {
   "cell_type": "markdown",
   "metadata": {
    "slideshow": {
     "slide_type": "subslide"
    }
   },
   "source": [
    "But what about multiplying a matrix with another matrix?\n",
    "\n",
    "$\\begin{pmatrix}\n",
    "  1 & 2 \\\\ 3 & 4 \\\\\n",
    "\\end{pmatrix}\n",
    "*\n",
    "\\begin{pmatrix}\n",
    "  5 & 9 \\\\ 1 & 2 \\\\\n",
    "\\end{pmatrix}\n",
    "=\\begin{pmatrix}\n",
    "  5 & 18 \\\\ 3 & 8 \\\\\n",
    "\\end{pmatrix} ?\n",
    "$"
   ]
  },
  {
   "cell_type": "markdown",
   "metadata": {
    "slideshow": {
     "slide_type": "fragment"
    }
   },
   "source": [
    "<center><b>No!! That's not correct!</b></center>"
   ]
  },
  {
   "cell_type": "markdown",
   "metadata": {
    "slideshow": {
     "slide_type": "subslide"
    }
   },
   "source": [
    "Matrix multiplication is a bit different."
   ]
  },
  {
   "cell_type": "markdown",
   "metadata": {
    "slideshow": {
     "slide_type": "fragment"
    }
   },
   "source": [
    "<center>BLACKBOARD</center>"
   ]
  },
  {
   "cell_type": "markdown",
   "metadata": {
    "slideshow": {
     "slide_type": "subslide"
    }
   },
   "source": [
    "For multiplication, then, should the matrices have the same size? Let's see it."
   ]
  },
  {
   "cell_type": "markdown",
   "metadata": {
    "slideshow": {
     "slide_type": "subslide"
    }
   },
   "source": [
    "$\\begin{pmatrix}\n",
    "  a & b & c \\\\\n",
    "  d & e & f \\\\\n",
    "\\end{pmatrix}$"
   ]
  },
  {
   "cell_type": "markdown",
   "metadata": {
    "slideshow": {
     "slide_type": "fragment"
    }
   },
   "source": [
    "This is a matrix with dimensions $2\\times{}3$.\n",
    "\n",
    "Remember: $ROWS\\times{}COLUMNS$"
   ]
  },
  {
   "cell_type": "markdown",
   "metadata": {
    "slideshow": {
     "slide_type": "fragment"
    }
   },
   "source": [
    "We can multiply such matrix with, e.g., this matrix:"
   ]
  },
  {
   "cell_type": "markdown",
   "metadata": {
    "slideshow": {
     "slide_type": "fragment"
    }
   },
   "source": [
    "$\\begin{pmatrix}\n",
    "  g & h & i & j \\\\\n",
    "  k & l & m & n \\\\\n",
    "  o & p & q & r \\\\\n",
    "\\end{pmatrix}$"
   ]
  },
  {
   "cell_type": "markdown",
   "metadata": {
    "slideshow": {
     "slide_type": "fragment"
    }
   },
   "source": [
    "whose dimensions are $3\\times{}4$"
   ]
  },
  {
   "cell_type": "markdown",
   "metadata": {
    "slideshow": {
     "slide_type": "subslide"
    }
   },
   "source": [
    "So, if we multiply two matrices of dimensions, e.g., $2\\times{}3$ and $3\\times{}4$, the results dimensions will be $2\\times{}4$\n",
    "\n",
    "$\\begin{pmatrix}\n",
    "  a & b & c \\\\\n",
    "  d & e & f \\\\\n",
    "\\end{pmatrix} *\n",
    "\\begin{pmatrix}\n",
    "  g & h & i & j \\\\\n",
    "  k & l & m & n \\\\\n",
    "  o & p & q & r \\\\\n",
    "\\end{pmatrix} = \n",
    "\\begin{pmatrix}\n",
    "  s & t & u & v \\\\\n",
    "  w & x & y & z \\\\\n",
    "\\end{pmatrix}$"
   ]
  },
  {
   "cell_type": "markdown",
   "metadata": {
    "slideshow": {
     "slide_type": "subslide"
    }
   },
   "source": [
    "And how to program this in Python? For example:"
   ]
  },
  {
   "cell_type": "markdown",
   "metadata": {
    "slideshow": {
     "slide_type": "fragment"
    }
   },
   "source": [
    "$\\begin{pmatrix}\n",
    "  5 & 9 \\\\ 1 & 2 \\\\ 1 & 2 \\\\\n",
    "\\end{pmatrix}\n",
    "*\n",
    "\\begin{pmatrix}\n",
    "  1 & 2 \\\\ 3 & 4 \\\\\n",
    "\\end{pmatrix}\n",
    "$"
   ]
  },
  {
   "cell_type": "markdown",
   "metadata": {
    "slideshow": {
     "slide_type": "fragment"
    }
   },
   "source": [
    "$5*1 + 9*3 = 32$\n",
    "\n",
    "$5*2 + 9*4 = 46$\n",
    "\n",
    "$\\ldots$"
   ]
  },
  {
   "cell_type": "markdown",
   "metadata": {
    "slideshow": {
     "slide_type": "fragment"
    }
   },
   "source": [
    "$\\begin{pmatrix}\n",
    "  5 & 9 \\\\ 1 & 2 \\\\ 1 & 2 \\\\\n",
    "\\end{pmatrix}\n",
    "*\n",
    "\\begin{pmatrix}\n",
    "  1 & 2 \\\\ 3 & 4 \\\\\n",
    "\\end{pmatrix}\n",
    "=\\begin{pmatrix}\n",
    "  32 & 46 \\\\ 7 & 10 \\\\ 7 & 10 \\\\\n",
    "\\end{pmatrix}\n",
    "$"
   ]
  },
  {
   "cell_type": "code",
   "execution_count": null,
   "metadata": {
    "slideshow": {
     "slide_type": "subslide"
    }
   },
   "outputs": [
    {
     "name": "stdout",
     "output_type": "stream",
     "text": [
      "逆:\n",
      " [[-2.   1. ]\n",
      " [ 1.5 -0.5]]\n",
      "矩阵除法:\n",
      " [[1.0000000e+00 4.4408921e-16]\n",
      " [0.0000000e+00 1.0000000e+00]]\n",
      "逆:\n",
      " [[-2.   1. ]\n",
      " [ 1.5 -0.5]]\n",
      "矩阵除法:\n",
      " [[1.0000000e+00 4.4408921e-16]\n",
      " [0.0000000e+00 1.0000000e+00]]\n",
      "逆:\n",
      " [[-2.   1. ]\n",
      " [ 1.5 -0.5]]\n",
      "矩阵除法:\n",
      " [[1.0000000e+00 4.4408921e-16]\n",
      " [0.0000000e+00 1.0000000e+00]]\n",
      "伪逆:\n",
      " [[-2.   1. ]\n",
      " [ 1.5 -0.5]]\n",
      "矩阵除法:\n",
      " [[ 1.0000000e+00  0.0000000e+00]\n",
      " [-4.4408921e-16  1.0000000e+00]]\n"
     ]
    }
   ],
   "source": [
    "A = np.array([[5,9],[1,2],[1,2]])\n",
    "B = np.array([[1,2],[3,4]])\n",
    "\n",
    "# print(np.dot(A,B)) # 矩阵乘法又称为点积，因此在numpy中使用的是dot函数\n",
    "# 复习以下矩阵的运算符号有哪些，于numpy中的对应是什么\n",
    "# 规范以下用法，矩阵的数学运算一律通过 \"np.\"的方式写\n",
    "# 其他的都是对应元素的运算，比如直接使用 + - * / 都是直接运算—— element wise operation\n",
    "# print(\"+:\\n\", B + B)\n",
    "# print(\"-:\\n\", B - B)\n",
    "# print(\"*:\\n\", B * B)\n",
    "# print(\"/:\\n\", B / B)\n",
    "# print(\"np.multiply():\\n\", np.multiply(B, B)) # 这也是element wise operation\n",
    "# print(\"np.divide():\\n\", np.divide(B, B)) # 这也是element wise operation\n",
    "\n",
    "# 数学矩阵运算\n",
    "# print(\"np.add():\\n\", np.add(B, B)) # 矩阵加法\n",
    "# print(\"np.subtract():\\n\", np.subtract(B, B)) # 矩阵减法\n",
    "# print(\"np.dot():\\n\", np.dot(B, B)) # 矩阵乘法\n",
    "# print(\"np.dot(5):\\n\", np.dot(5, B)) # 数乘\n",
    "'''\n",
    "If both a and b are 1-D arrays, it is inner product of vectors (without complex conjugation).\n",
    "If both a and b are 2-D arrays, it is matrix multiplication, but using matmul or a @ b is preferred.\n",
    "If either a or b is 0-D (scalar), it is equivalent to multiply and using numpy.multiply(a, b) or a * b is preferred.\n",
    "If a is an N-D array and b is a 1-D array, it is a sum product over the last axis of a and b.\n",
    "If a is an N-D array and b is an M-D array (where M>=2), it is a sum product over the last axis of a and the second-to-last axis of b:\n",
    "dot(a, b)[i,j,k,m] = sum(a[i,j,:] * b[k,:,m])\n",
    "'''\n",
    "# 矩阵除法就是乘以矩阵的逆矩阵\n",
    "print(\"逆:\\n\", np.linalg.inv(B)) # 矩阵求逆\n",
    "print(\"矩阵除法:\\n\", np.dot(np.linalg.inv(B), B))\n",
    "print(\"逆:\\n\", np.matrix(B).I) # 矩阵求逆\n",
    "print(\"矩阵除法:\\n\", np.dot(np.matrix(B).I, B))\n",
    "print(\"逆:\\n\", np.matrix(B).getI()) # 矩阵求逆\n",
    "print(\"矩阵除法:\\n\", np.dot(np.matrix(B).getI(), B))\n",
    "print(\"伪逆:\\n\", np.linalg.pinv(B)) # 矩阵求伪逆 pseudo-inverse\n",
    "print(\"矩阵除法:\\n\", np.dot(np.linalg.pinv(B), B))\n"
   ]
  },
  {
   "cell_type": "markdown",
   "metadata": {
    "slideshow": {
     "slide_type": "slide"
    }
   },
   "source": [
    "<center>Now, then, let's recall the previous example about e-mail classification.</center>"
   ]
  },
  {
   "cell_type": "markdown",
   "metadata": {
    "slideshow": {
     "slide_type": "subslide"
    }
   },
   "source": [
    "Our task!\n",
    "\n",
    "List of e-mails:\n",
    " * Email1: new offer . buy cheap viagra in our online shop\n",
    " * Email2: sweety i will arrive home late cheers i love you\n",
    " * Email3: the department meeting will be delayed until tomorrow because i will be ill\n",
    " * Email4: in our classes we will learn how to deal with drug dealers and young teenagers\n",
    " \n",
    "Given that data, we must decide if each message is Spam or not\n",
    "\n",
    "And, not only that, but also which e-mails are actually from work."
   ]
  },
  {
   "cell_type": "markdown",
   "metadata": {
    "slideshow": {
     "slide_type": "subslide"
    }
   },
   "source": [
    " ### First step\n",
    " \n",
    " Represent the data as a sparse matrix.\n",
    " \n",
    "\n",
    "| WORDS | and | the | house | meeting | shop | love | arrive | ... |\n",
    "|:-----:|:-----:|:-----:|:-----:|:-----:|:-----:|:-----:|:-----:|:-----:|\n",
    "|EMAIL 1 | 5 | 3 | 1 | 0 | 0 | 2 | 1 | ... |\n",
    "|EMAIL 2 | 7 | 6 | 2 | 0 | 0 | 2 | 1 | ... |\n",
    "|EMAIL 3 | 8 | 3 | 0 | 4 | 0 | 2 | 1 | ... |\n",
    "|EMAIL 4 | 6 | 4 | 0 | 0 | 0 | 0 | 1 | ... |\n",
    "\n",
    "If we have a vocabulary of 500 words, we will have 4 rows and 500 columns.\n",
    "\n",
    " ### Second step\n",
    " \n",
    " Define a weight vector, which will measure the relationship of a word with the property we want to assign (\"spamness\", \"workness\", ...)\n",
    " \n",
    "| WORDS | and | the | house | meeting | shop | love | arrive | ... |\n",
    "|:-----|:-----:|:-----:|:-----:|:-----:|:-----:|:-----:|:-----:|:-----:|\n",
    "| Spam-weights | 0.001 | 0.002 | 0.05 | 0.1 | 0.3 | 0.4 | 0.05 | ... |\n",
    "| Work-weights | ... | ... | ... | 0.4 | ... | ... | 0.3 | ... |\n",
    "\n",
    "If we have two tasks (spam and work), the matrix will have 2 rows and 500 columns."
   ]
  },
  {
   "cell_type": "markdown",
   "metadata": {
    "slideshow": {
     "slide_type": "subslide"
    }
   },
   "source": [
    "Then, the dimensions of the first matrix are $4 \\times 500$\n",
    "\n",
    "The dimensions of the second one are $2 \\times 500$\n",
    "\n",
    "Their dimensions are $4 \\times 500$ and $2 \\times 500$. In order to multiply them:\n",
    "\n",
    "<center>500 == 2?</center>"
   ]
  },
  {
   "cell_type": "markdown",
   "metadata": {
    "slideshow": {
     "slide_type": "subslide"
    }
   },
   "source": [
    "Solution: Transpose the second matrix.\n",
    "\n",
    "Keep the first matrix/table as it is.\n",
    "\n",
    "| WORDS | and | the | house | meeting | shop | love | arrive | ... |\n",
    "|:-----:|:-----:|:-----:|:-----:|:-----:|:-----:|:-----:|:-----:|:-----:|\n",
    "|EMAIL 1 | 5 | 3 | 1 | 0 | 0 | 2 | 1 | ... |\n",
    "|EMAIL 2 | 7 | 6 | 2 | 0 | 0 | 2 | 1 | ... |\n",
    "|EMAIL 3 | 8 | 3 | 0 | 4 | 0 | 2 | 1 | ... |\n",
    "|EMAIL 4 | 6 | 4 | 0 | 0 | 0 | 0 | 1 | ... |\n"
   ]
  },
  {
   "cell_type": "markdown",
   "metadata": {
    "slideshow": {
     "slide_type": "subslide"
    }
   },
   "source": [
    "Take the second one and flip it over its diagonal. Then:"
   ]
  },
  {
   "cell_type": "markdown",
   "metadata": {
    "slideshow": {
     "slide_type": "fragment"
    }
   },
   "source": [
    "| WORDS | and | the | house | meeting | shop | love | arrive | ... |\n",
    "|:-----|:-----:|:-----:|:-----:|:-----:|:-----:|:-----:|:-----:|:-----:|\n",
    "| Spam-weights | 0.001 | 0.002 | 0.05 | 0.1 | 0.3 | 0.4 | 0.05 | ... |\n",
    "| Work-weights | 0.003 | 0.004 | 0.08 | 0.4 | 0.2 | 0.1 | 0.3 | ... |"
   ]
  },
  {
   "cell_type": "markdown",
   "metadata": {
    "slideshow": {
     "slide_type": "fragment"
    }
   },
   "source": [
    "|WORDS | W_SPAM | W_WORK |\n",
    "|:-----|:-----:|:-----:|\n",
    "| and | 0.001 | 0.003 |\n",
    "| the | 0.002 | 0.004 |\n",
    "| house | 0.05 | 0.08 |\n",
    "| meeting | 0.1 | 0.4 |\n",
    "| shop | 0.3 | 0.2 |\n",
    "| love | 0.4 | 0.1 |\n",
    "| arrive | 0.05 | 0.3 |\n",
    "| ... | ... | ... |"
   ]
  },
  {
   "cell_type": "markdown",
   "metadata": {
    "slideshow": {
     "slide_type": "subslide"
    }
   },
   "source": [
    "Visualization from Wikipedia:\n",
    "\n",
    "<img src=\"https://upload.wikimedia.org/wikipedia/commons/e/e4/Matrix_transpose.gif\"/>"
   ]
  },
  {
   "cell_type": "code",
   "execution_count": null,
   "metadata": {},
   "outputs": [
    {
     "name": "stdout",
     "output_type": "stream",
     "text": [
      "[[5 9]\n",
      " [1 2]\n",
      " [1 2]] \n",
      "\n",
      "[[25 81]\n",
      " [ 1  4]\n",
      " [ 1  4]] \n",
      "\n",
      "[[5 1 1]\n",
      " [9 2 2]] \n",
      "\n",
      "[[5 1 1]\n",
      " [9 2 2]] \n",
      "\n",
      "[[5 1 1]\n",
      " [9 2 2]] \n",
      "\n"
     ]
    }
   ],
   "source": [
    "# 矩阵转置\n",
    "print(A, '\\n')\n",
    "print(A * A, '\\n')\n",
    "print(A.transpose(), '\\n')\n",
    "print(A.T, '\\n')\n",
    "print(np.transpose(A), '\\n')\n"
   ]
  },
  {
   "cell_type": "markdown",
   "metadata": {
    "slideshow": {
     "slide_type": "subslide"
    }
   },
   "source": [
    "Now we have a matrix of $4 \\times 500$ dimensions and another one of $500 \\times 2$ dimensions."
   ]
  },
  {
   "cell_type": "markdown",
   "metadata": {
    "slideshow": {
     "slide_type": "fragment"
    }
   },
   "source": [
    "| WORDS | and | the | house | meeting | shop | love | arrive | ... |\n",
    "|:-----:|:-----:|:-----:|:-----:|:-----:|:-----:|:-----:|:-----:|:-----:|\n",
    "|EMAIL 1 | 5 | 3 | 1 | 0 | 0 | 2 | 1 | ... |\n",
    "|EMAIL 2 | 7 | 6 | 2 | 0 | 0 | 2 | 1 | ... |\n",
    "|EMAIL 3 | 8 | 3 | 0 | 4 | 0 | 2 | 1 | ... |\n",
    "|EMAIL 4 | 6 | 4 | 0 | 0 | 0 | 0 | 1 | ... |"
   ]
  },
  {
   "cell_type": "markdown",
   "metadata": {
    "slideshow": {
     "slide_type": "fragment"
    }
   },
   "source": [
    "|WORDS | W_SPAM | W_WORK |\n",
    "|:-----|:-----:|:-----:|\n",
    "| and | 0.001 | 0.003 |\n",
    "| the | 0.002 | 0.004 |\n",
    "| house | 0.05 | 0.08 |\n",
    "| meeting | 0.1 | 0.4 |\n",
    "| shop | 0.3 | 0.2 |\n",
    "| love | 0.4 | 0.1 |\n",
    "| arrive | 0.05 | 0.3 |\n",
    "| ... | ... | ... |"
   ]
  },
  {
   "cell_type": "markdown",
   "metadata": {
    "slideshow": {
     "slide_type": "subslide"
    }
   },
   "source": [
    "If we multiply each row from the first matrix with each column from the second matrix, we will get a number specifying the `spamness` or `workness` of each e-mail.\n",
    "\n",
    "The results dimensions will be $4 \\times 2$\n",
    "\n",
    "$\\begin{pmatrix}\n",
    "  res_{spam,email_1} & res_{work,email_1} \\\\\n",
    "  res_{spam,email_2} & res_{work,email_2} \\\\\n",
    "  res_{spam,email_3} & res_{work,email_3} \\\\\n",
    "  res_{spam,email_4} & res_{work,email_4} \\\\\n",
    "\\end{pmatrix}$"
   ]
  },
  {
   "cell_type": "markdown",
   "metadata": {
    "collapsed": true,
    "slideshow": {
     "slide_type": "subslide"
    }
   },
   "source": [
    "Then, a take home message.\n",
    "\n",
    "+ Machine Learning is about learning those weights about the *spamness* or *workness* of each word.\n",
    "\n",
    "And more..."
   ]
  },
  {
   "cell_type": "markdown",
   "metadata": {
    "slideshow": {
     "slide_type": "slide"
    }
   },
   "source": [
    "#### Representing functions using numpy"
   ]
  },
  {
   "cell_type": "markdown",
   "metadata": {
    "slideshow": {
     "slide_type": "subslide"
    }
   },
   "source": [
    "Imagine we want to represent a linear function.\n",
    "\n",
    "$$f(x) = mx + b$$\n",
    "\n",
    "where, $m$ is the slope of the function and $b$ is the intercept of the function."
   ]
  },
  {
   "cell_type": "markdown",
   "metadata": {
    "slideshow": {
     "slide_type": "fragment"
    }
   },
   "source": [
    "We need to define a function that gets two parameters, $m$ and $b$, and will return the function $f$.\n",
    "\n",
    "Can we do that?"
   ]
  },
  {
   "cell_type": "code",
   "execution_count": null,
   "metadata": {
    "slideshow": {
     "slide_type": "fragment"
    }
   },
   "outputs": [],
   "source": [
    "# 这里比较有意思的是，在运行时动态创建了一个函数，并且返回了函数指针\n",
    "def generate_linear_function(m,b):\n",
    "    #First we create the function\n",
    "    def local_func(x):\n",
    "        return m*x + b\n",
    "    \n",
    "    #And then, we return the function! :-)\n",
    "    return local_func"
   ]
  },
  {
   "cell_type": "code",
   "execution_count": null,
   "metadata": {
    "slideshow": {
     "slide_type": "subslide"
    }
   },
   "outputs": [],
   "source": [
    "f=generate_linear_function(5,7)"
   ]
  },
  {
   "cell_type": "code",
   "execution_count": null,
   "metadata": {
    "slideshow": {
     "slide_type": "fragment"
    }
   },
   "outputs": [
    {
     "data": {
      "text/plain": [
       "32"
      ]
     },
     "execution_count": 145,
     "metadata": {},
     "output_type": "execute_result"
    }
   ],
   "source": [
    "f(5)"
   ]
  },
  {
   "cell_type": "code",
   "execution_count": null,
   "metadata": {
    "slideshow": {
     "slide_type": "fragment"
    }
   },
   "outputs": [
    {
     "data": {
      "text/plain": [
       "2"
      ]
     },
     "execution_count": 146,
     "metadata": {},
     "output_type": "execute_result"
    }
   ],
   "source": [
    "f(-1)"
   ]
  },
  {
   "cell_type": "code",
   "execution_count": null,
   "metadata": {
    "slideshow": {
     "slide_type": "fragment"
    }
   },
   "outputs": [
    {
     "data": {
      "image/png": "[encoded data removed]",
      "text/plain": [
       "<Figure size 640x480 with 1 Axes>"
      ]
     },
     "metadata": {},
     "output_type": "display_data"
    }
   ],
   "source": [
    "xran=np.arange(-2,2,0.1)\n",
    "plt.plot(xran,f(xran));\n",
    "plt.axhline(0, color='black',alpha=0.3)\n",
    "plt.axvline(0, color='black',alpha=0.3);"
   ]
  }
 ],
 "metadata": {
  "celltoolbar": "Slideshow",
  "kernelspec": {
   "display_name": "base",
   "language": "python",
   "name": "python3"
  },
  "language_info": {
   "codemirror_mode": {
    "name": "ipython",
    "version": 3
   },
   "file_extension": ".py",
   "mimetype": "text/x-python",
   "name": "python",
   "nbconvert_exporter": "python",
   "pygments_lexer": "ipython3",
   "version": "3.11.4"
  }
 },
 "nbformat": 4,
 "nbformat_minor": 2
}
