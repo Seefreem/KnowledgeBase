{
 "cells": [
  {
   "cell_type": "markdown",
   "metadata": {
    "slideshow": {
     "slide_type": "slide"
    }
   },
   "source": [
    "<img src=\"https://designguide.ku.dk/download/co-branding/ku_logo_uk_h.png\" alt=\"University logo\" width=\"300\" align=\"right\"/>"
   ]
  },
  {
   "cell_type": "markdown",
   "metadata": {
    "slideshow": {
     "slide_type": "-"
    }
   },
   "source": [
    "Modified teaching materials from Scientific programming (7.5 ECTS) of MSc Programme in IT and Cognition. The lecturer is Ali Basirat (alib@hum.ku.dk). \n"
   ]
  },
  {
   "cell_type": "markdown",
   "metadata": {},
   "source": [
    "##  Numerical Python (NumPy)\n",
    "\n",
    "  * Efficient interface to store and operate on dense data buffers  \n",
    "  * In a way, similar to lists but more efficient\n",
    "  * NumPy arrays: the core of nearly the entire ecosystem of machine learning and data science tools in Python\n",
    "  * Then, time spent learning to use NumPy effectively will be valuable for you"
   ]
  },
  {
   "cell_type": "code",
   "execution_count": 1,
   "metadata": {
    "slideshow": {
     "slide_type": "fragment"
    }
   },
   "outputs": [],
   "source": [
    "import numpy as np"
   ]
  },
  {
   "cell_type": "markdown",
   "metadata": {
    "slideshow": {
     "slide_type": "subslide"
    }
   },
   "source": [
    "#### How to create a Numpy array?"
   ]
  },
  {
   "cell_type": "markdown",
   "metadata": {
    "slideshow": {
     "slide_type": "fragment"
    }
   },
   "source": [
    "From a list:"
   ]
  },
  {
   "cell_type": "code",
   "execution_count": 2,
   "metadata": {
    "slideshow": {
     "slide_type": "fragment"
    }
   },
   "outputs": [
    {
     "data": {
      "text/plain": [
       "array([1, 2, 3])"
      ]
     },
     "execution_count": 2,
     "metadata": {},
     "output_type": "execute_result"
    }
   ],
   "source": [
    "import numpy as np\n",
    "# 通过list 构建numpy数组/向量\n",
    "np.array([1,2,3])"
   ]
  },
  {
   "cell_type": "markdown",
   "metadata": {
    "slideshow": {
     "slide_type": "fragment"
    }
   },
   "source": [
    "We can specify the data type of the array:"
   ]
  },
  {
   "cell_type": "code",
   "execution_count": 3,
   "metadata": {
    "slideshow": {
     "slide_type": "fragment"
    }
   },
   "outputs": [
    {
     "data": {
      "text/plain": [
       "array(['1', '2', '3', '4'], dtype='<U1')"
      ]
     },
     "execution_count": 3,
     "metadata": {},
     "output_type": "execute_result"
    }
   ],
   "source": [
    "np.array([1, 2, 3, 4], dtype='str') # 指定数组元素的数据类型"
   ]
  },
  {
   "cell_type": "markdown",
   "metadata": {
    "slideshow": {
     "slide_type": "subslide"
    }
   },
   "source": [
    "We can create arrays from scratch:"
   ]
  },
  {
   "cell_type": "markdown",
   "metadata": {
    "slideshow": {
     "slide_type": "fragment"
    }
   },
   "source": [
    "Array of zeros:"
   ]
  },
  {
   "cell_type": "code",
   "execution_count": 4,
   "metadata": {
    "slideshow": {
     "slide_type": "fragment"
    }
   },
   "outputs": [
    {
     "data": {
      "text/plain": [
       "array([0, 0, 0, 0, 0, 0, 0, 0, 0, 0])"
      ]
     },
     "execution_count": 4,
     "metadata": {},
     "output_type": "execute_result"
    }
   ],
   "source": [
    "np.zeros(10, dtype=int) # 创建全是零的向量，全0向量，零向量，0向量"
   ]
  },
  {
   "cell_type": "markdown",
   "metadata": {
    "slideshow": {
     "slide_type": "fragment"
    }
   },
   "source": [
    "Array of ones:"
   ]
  },
  {
   "cell_type": "code",
   "execution_count": 5,
   "metadata": {
    "slideshow": {
     "slide_type": "fragment"
    }
   },
   "outputs": [
    {
     "data": {
      "text/plain": [
       "array([1, 1, 1, 1, 1, 1])"
      ]
     },
     "execution_count": 5,
     "metadata": {},
     "output_type": "execute_result"
    }
   ],
   "source": [
    "np.ones(6, dtype=int) # 创建全是1的向量，全1向量"
   ]
  },
  {
   "cell_type": "markdown",
   "metadata": {
    "slideshow": {
     "slide_type": "subslide"
    }
   },
   "source": [
    "Matrix of ones:"
   ]
  },
  {
   "cell_type": "code",
   "execution_count": 6,
   "metadata": {
    "slideshow": {
     "slide_type": "fragment"
    }
   },
   "outputs": [
    {
     "data": {
      "text/plain": [
       "array([[1., 1., 1., 1., 1.],\n",
       "       [1., 1., 1., 1., 1.],\n",
       "       [1., 1., 1., 1., 1.]])"
      ]
     },
     "execution_count": 6,
     "metadata": {},
     "output_type": "execute_result"
    }
   ],
   "source": [
    "np.ones((3, 5), dtype=float) # 创建矩阵，全是1的矩阵"
   ]
  },
  {
   "cell_type": "markdown",
   "metadata": {
    "slideshow": {
     "slide_type": "subslide"
    }
   },
   "source": [
    "Matrix of specified numbers:"
   ]
  },
  {
   "cell_type": "code",
   "execution_count": 7,
   "metadata": {
    "slideshow": {
     "slide_type": "fragment"
    }
   },
   "outputs": [
    {
     "data": {
      "text/plain": [
       "array([[3.14, 3.14, 3.14, 3.14, 3.14],\n",
       "       [3.14, 3.14, 3.14, 3.14, 3.14],\n",
       "       [3.14, 3.14, 3.14, 3.14, 3.14]])"
      ]
     },
     "execution_count": 7,
     "metadata": {},
     "output_type": "execute_result"
    }
   ],
   "source": [
    "np.full((3, 5), 3.14) # 创建一个矩阵，全部填充为指定的数据。根据一个值创建一个矩阵。"
   ]
  },
  {
   "cell_type": "markdown",
   "metadata": {
    "slideshow": {
     "slide_type": "subslide"
    }
   },
   "source": [
    "Identity matrix:"
   ]
  },
  {
   "cell_type": "code",
   "execution_count": 8,
   "metadata": {
    "slideshow": {
     "slide_type": "fragment"
    }
   },
   "outputs": [
    {
     "data": {
      "text/plain": [
       "array([[1, 0, 0],\n",
       "       [0, 1, 0],\n",
       "       [0, 0, 1]])"
      ]
     },
     "execution_count": 8,
     "metadata": {},
     "output_type": "execute_result"
    }
   ],
   "source": [
    "np.eye(3, dtype=int) # 单位矩阵"
   ]
  },
  {
   "cell_type": "markdown",
   "metadata": {
    "slideshow": {
     "slide_type": "subslide"
    }
   },
   "source": [
    "#### Numpy array attributes: ndim, shape, size"
   ]
  },
  {
   "cell_type": "code",
   "execution_count": 9,
   "metadata": {
    "slideshow": {
     "slide_type": "subslide"
    }
   },
   "outputs": [
    {
     "data": {
      "text/plain": [
       "array([[3.14, 3.14, 3.14, 3.14, 3.14],\n",
       "       [3.14, 3.14, 3.14, 3.14, 3.14],\n",
       "       [3.14, 3.14, 3.14, 3.14, 3.14]])"
      ]
     },
     "execution_count": 9,
     "metadata": {},
     "output_type": "execute_result"
    }
   ],
   "source": [
    "our_array = np.full((3, 5), 3.14)\n",
    "our_array"
   ]
  },
  {
   "cell_type": "code",
   "execution_count": 10,
   "metadata": {
    "slideshow": {
     "slide_type": "-"
    }
   },
   "outputs": [
    {
     "data": {
      "text/plain": [
       "(3, 5)"
      ]
     },
     "execution_count": 10,
     "metadata": {},
     "output_type": "execute_result"
    }
   ],
   "source": [
    "our_array.shape # 形状"
   ]
  },
  {
   "cell_type": "code",
   "execution_count": 11,
   "metadata": {},
   "outputs": [
    {
     "data": {
      "text/plain": [
       "2"
      ]
     },
     "execution_count": 11,
     "metadata": {},
     "output_type": "execute_result"
    }
   ],
   "source": [
    "our_array.ndim # 维度"
   ]
  },
  {
   "cell_type": "code",
   "execution_count": 12,
   "metadata": {},
   "outputs": [
    {
     "name": "stdout",
     "output_type": "stream",
     "text": [
      "15\n",
      "3\n"
     ]
    }
   ],
   "source": [
    "print(our_array.size) # 元素个数\n",
    "print(len(our_array)) # 第一维度的元素个数，注意到这其中的差别\n",
    "# 其实len()函数的逻辑很简单，给它一个可遍历的容器，它遍历一遍，数一下有多少个元素。\n",
    "# 所以对于矩阵而言，矩阵是嵌套的可遍历元素。因此len只会数第一层的元素个数。"
   ]
  },
  {
   "cell_type": "markdown",
   "metadata": {
    "slideshow": {
     "slide_type": "subslide"
    }
   },
   "source": [
    "#### Accessing elements: Slicing, mutlidimensional arrays"
   ]
  },
  {
   "cell_type": "code",
   "execution_count": 13,
   "metadata": {
    "slideshow": {
     "slide_type": "subslide"
    }
   },
   "outputs": [
    {
     "data": {
      "text/plain": [
       "array([9, 8, 7, 6, 5, 1, 2, 3, 4])"
      ]
     },
     "execution_count": 13,
     "metadata": {},
     "output_type": "execute_result"
    }
   ],
   "source": [
    "L = np.array([9,8,7,6,5,1,2,3,4]) # 根据list创建向量\n",
    "L"
   ]
  },
  {
   "cell_type": "markdown",
   "metadata": {
    "slideshow": {
     "slide_type": "fragment"
    }
   },
   "source": [
    "We can use slicing in the same way as in lists:"
   ]
  },
  {
   "cell_type": "code",
   "execution_count": 14,
   "metadata": {
    "slideshow": {
     "slide_type": "fragment"
    }
   },
   "outputs": [
    {
     "data": {
      "text/plain": [
       "array([8, 7, 6, 5])"
      ]
     },
     "execution_count": 14,
     "metadata": {},
     "output_type": "execute_result"
    }
   ],
   "source": [
    "L[1:5] # 向量切片，左闭右开"
   ]
  },
  {
   "cell_type": "markdown",
   "metadata": {
    "slideshow": {
     "slide_type": "subslide"
    }
   },
   "source": [
    "Multidimensional arrays:"
   ]
  },
  {
   "cell_type": "code",
   "execution_count": 15,
   "metadata": {
    "slideshow": {
     "slide_type": "fragment"
    }
   },
   "outputs": [
    {
     "data": {
      "text/plain": [
       "array([[[0.17467301, 0.65277313, 0.51257027, 0.14089282],\n",
       "        [0.72248868, 0.15980645, 0.32076368, 0.78275931],\n",
       "        [0.80206927, 0.88853878, 0.54408603, 0.23009997],\n",
       "        [0.95536144, 0.56813361, 0.52513375, 0.85145469],\n",
       "        [0.97163812, 0.61520611, 0.10445297, 0.10996994]],\n",
       "\n",
       "       [[0.90605433, 0.13906462, 0.23802236, 0.10378737],\n",
       "        [0.66816008, 0.34279199, 0.19387757, 0.21570167],\n",
       "        [0.75332371, 0.10600383, 0.59221761, 0.06874337],\n",
       "        [0.26922272, 0.9361781 , 0.6252629 , 0.70191983],\n",
       "        [0.20189954, 0.27657762, 0.08734925, 0.34590882]],\n",
       "\n",
       "       [[0.29498602, 0.35039853, 0.22421961, 0.85558362],\n",
       "        [0.7142449 , 0.26697413, 0.88014804, 0.15482724],\n",
       "        [0.5840951 , 0.1792176 , 0.14814205, 0.72827836],\n",
       "        [0.11044767, 0.05422451, 0.16728382, 0.25564346],\n",
       "        [0.56061812, 0.56704635, 0.5586413 , 0.31335511]]])"
      ]
     },
     "execution_count": 15,
     "metadata": {},
     "output_type": "execute_result"
    }
   ],
   "source": [
    "cube = np.random.random((3, 5, 4))\n",
    "# 注意左边的维度更高，右边的维度更低。嵌套的逻辑是，从(3, 5, 4)的右边往左边嵌套。\n",
    "cube"
   ]
  },
  {
   "cell_type": "code",
   "execution_count": 16,
   "metadata": {
    "slideshow": {
     "slide_type": "fragment"
    }
   },
   "outputs": [
    {
     "data": {
      "text/plain": [
       "(3, 5, 4)"
      ]
     },
     "execution_count": 16,
     "metadata": {},
     "output_type": "execute_result"
    }
   ],
   "source": [
    "cube.shape"
   ]
  },
  {
   "cell_type": "code",
   "execution_count": 17,
   "metadata": {
    "slideshow": {
     "slide_type": "fragment"
    }
   },
   "outputs": [
    {
     "data": {
      "text/plain": [
       "0.10996994337164423"
      ]
     },
     "execution_count": 17,
     "metadata": {},
     "output_type": "execute_result"
    }
   ],
   "source": [
    "cube[0,4,3] # indexing the matrix，索引元素，访问元素。注意这种写法和C++的不一样。但是和MATLAB上的一样。"
   ]
  },
  {
   "cell_type": "markdown",
   "metadata": {
    "slideshow": {
     "slide_type": "subslide"
    }
   },
   "source": [
    "+ We can use slicing with multidimensional arrays. \n",
    "+ Let's take the first column of the three main matrices:"
   ]
  },
  {
   "cell_type": "code",
   "execution_count": 18,
   "metadata": {
    "slideshow": {
     "slide_type": "fragment"
    }
   },
   "outputs": [
    {
     "data": {
      "text/plain": [
       "array([[0.17467301, 0.72248868, 0.80206927, 0.95536144, 0.97163812],\n",
       "       [0.90605433, 0.66816008, 0.75332371, 0.26922272, 0.20189954],\n",
       "       [0.29498602, 0.7142449 , 0.5840951 , 0.11044767, 0.56061812]])"
      ]
     },
     "execution_count": 18,
     "metadata": {},
     "output_type": "execute_result"
    }
   ],
   "source": [
    "cube[:,:,0] # 多维矩阵的切片"
   ]
  },
  {
   "cell_type": "markdown",
   "metadata": {
    "slideshow": {
     "slide_type": "subslide"
    }
   },
   "source": [
    "#### Remember! Slicing is not copying.\n",
    "\n",
    "You create a view, but you do not copy the array.  \n",
    "注意slicing 并不是拷贝，因此你操作切片，也会导致原来的数组的元素发生变化，这个和list的slicing不一样  \n",
    "slicing, reshape and view 都是返回索引，因此，通过索引对数据进行修改，都会导致原始数据的修改"
   ]
  },
  {
   "cell_type": "code",
   "execution_count": 19,
   "metadata": {
    "slideshow": {
     "slide_type": "fragment"
    }
   },
   "outputs": [
    {
     "data": {
      "text/plain": [
       "array([[0.17467301, 0.72248868, 0.80206927, 0.95536144, 0.97163812],\n",
       "       [0.90605433, 0.66816008, 0.75332371, 0.26922272, 0.20189954],\n",
       "       [0.29498602, 0.7142449 , 0.5840951 , 0.11044767, 0.56061812]])"
      ]
     },
     "execution_count": 19,
     "metadata": {},
     "output_type": "execute_result"
    }
   ],
   "source": [
    "first_columns = cube[:,:,0]\n",
    "first_columns"
   ]
  },
  {
   "cell_type": "code",
   "execution_count": 20,
   "metadata": {
    "slideshow": {
     "slide_type": "fragment"
    }
   },
   "outputs": [],
   "source": [
    "first_columns.fill(1) # 填充函数，填充一个具体的值，填充特定的值"
   ]
  },
  {
   "cell_type": "code",
   "execution_count": 21,
   "metadata": {
    "slideshow": {
     "slide_type": "subslide"
    }
   },
   "outputs": [
    {
     "data": {
      "text/plain": [
       "array([[[1.        , 0.65277313, 0.51257027, 0.14089282],\n",
       "        [1.        , 0.15980645, 0.32076368, 0.78275931],\n",
       "        [1.        , 0.88853878, 0.54408603, 0.23009997],\n",
       "        [1.        , 0.56813361, 0.52513375, 0.85145469],\n",
       "        [1.        , 0.61520611, 0.10445297, 0.10996994]],\n",
       "\n",
       "       [[1.        , 0.13906462, 0.23802236, 0.10378737],\n",
       "        [1.        , 0.34279199, 0.19387757, 0.21570167],\n",
       "        [1.        , 0.10600383, 0.59221761, 0.06874337],\n",
       "        [1.        , 0.9361781 , 0.6252629 , 0.70191983],\n",
       "        [1.        , 0.27657762, 0.08734925, 0.34590882]],\n",
       "\n",
       "       [[1.        , 0.35039853, 0.22421961, 0.85558362],\n",
       "        [1.        , 0.26697413, 0.88014804, 0.15482724],\n",
       "        [1.        , 0.1792176 , 0.14814205, 0.72827836],\n",
       "        [1.        , 0.05422451, 0.16728382, 0.25564346],\n",
       "        [1.        , 0.56704635, 0.5586413 , 0.31335511]]])"
      ]
     },
     "execution_count": 21,
     "metadata": {},
     "output_type": "execute_result"
    }
   ],
   "source": [
    "cube"
   ]
  },
  {
   "cell_type": "markdown",
   "metadata": {
    "slideshow": {
     "slide_type": "subslide"
    }
   },
   "source": [
    "#### Creating copies of arrays"
   ]
  },
  {
   "cell_type": "code",
   "execution_count": 22,
   "metadata": {
    "slideshow": {
     "slide_type": "fragment"
    }
   },
   "outputs": [
    {
     "data": {
      "text/plain": [
       "array([[0.65277313, 0.15980645, 0.88853878, 0.56813361, 0.61520611],\n",
       "       [0.13906462, 0.34279199, 0.10600383, 0.9361781 , 0.27657762],\n",
       "       [0.35039853, 0.26697413, 0.1792176 , 0.05422451, 0.56704635]])"
      ]
     },
     "execution_count": 22,
     "metadata": {},
     "output_type": "execute_result"
    }
   ],
   "source": [
    "second_columns = cube[:,:,1].copy() # 深拷贝，复制子矩阵元素\n",
    "second_columns"
   ]
  },
  {
   "cell_type": "code",
   "execution_count": 23,
   "metadata": {
    "slideshow": {
     "slide_type": "fragment"
    }
   },
   "outputs": [
    {
     "data": {
      "text/plain": [
       "array([[1., 1., 1., 1., 1.],\n",
       "       [1., 1., 1., 1., 1.],\n",
       "       [1., 1., 1., 1., 1.]])"
      ]
     },
     "execution_count": 23,
     "metadata": {},
     "output_type": "execute_result"
    }
   ],
   "source": [
    "second_columns.fill(1) # 填充值\n",
    "second_columns"
   ]
  },
  {
   "cell_type": "code",
   "execution_count": 24,
   "metadata": {
    "slideshow": {
     "slide_type": "subslide"
    }
   },
   "outputs": [
    {
     "data": {
      "text/plain": [
       "array([[[1.        , 0.65277313, 0.51257027, 0.14089282],\n",
       "        [1.        , 0.15980645, 0.32076368, 0.78275931],\n",
       "        [1.        , 0.88853878, 0.54408603, 0.23009997],\n",
       "        [1.        , 0.56813361, 0.52513375, 0.85145469],\n",
       "        [1.        , 0.61520611, 0.10445297, 0.10996994]],\n",
       "\n",
       "       [[1.        , 0.13906462, 0.23802236, 0.10378737],\n",
       "        [1.        , 0.34279199, 0.19387757, 0.21570167],\n",
       "        [1.        , 0.10600383, 0.59221761, 0.06874337],\n",
       "        [1.        , 0.9361781 , 0.6252629 , 0.70191983],\n",
       "        [1.        , 0.27657762, 0.08734925, 0.34590882]],\n",
       "\n",
       "       [[1.        , 0.35039853, 0.22421961, 0.85558362],\n",
       "        [1.        , 0.26697413, 0.88014804, 0.15482724],\n",
       "        [1.        , 0.1792176 , 0.14814205, 0.72827836],\n",
       "        [1.        , 0.05422451, 0.16728382, 0.25564346],\n",
       "        [1.        , 0.56704635, 0.5586413 , 0.31335511]]])"
      ]
     },
     "execution_count": 24,
     "metadata": {},
     "output_type": "execute_result"
    }
   ],
   "source": [
    "cube"
   ]
  },
  {
   "cell_type": "markdown",
   "metadata": {
    "slideshow": {
     "slide_type": "subslide"
    }
   },
   "source": [
    "#### Reshape"
   ]
  },
  {
   "cell_type": "markdown",
   "metadata": {
    "slideshow": {
     "slide_type": "fragment"
    }
   },
   "source": [
    "Sometimes it is very useful to get represent the array in a specific shape, for example as a long vector.\n",
    "\n",
    "One rule: the size of the initial array must match the size of the reshaped array."
   ]
  },
  {
   "cell_type": "code",
   "execution_count": 25,
   "metadata": {
    "slideshow": {
     "slide_type": "fragment"
    }
   },
   "outputs": [
    {
     "name": "stdout",
     "output_type": "stream",
     "text": [
      "new_grid:\n",
      " [[[ 1  2]\n",
      "  [ 3  4]\n",
      "  [ 5  6]]\n",
      "\n",
      " [[ 7  8]\n",
      "  [ 9 10]\n",
      "  [11 12]]]\n",
      "shape of new_grid:  (2, 3, 2)\n",
      "(2, 3, 4)\n",
      "concat with axis=0:\n",
      " [[[ 1  2  1  2]\n",
      "  [ 3  4  3  4]\n",
      "  [ 5  6  5  6]]\n",
      "\n",
      " [[ 7  8  7  8]\n",
      "  [ 9 10  9 10]\n",
      "  [11 12 11 12]]]\n"
     ]
    }
   ],
   "source": [
    "import numpy as np\n",
    "grid = np.arange(1, 13).reshape((3, 4)) # 创建一个整数序列\n",
    "# print(grid)\n",
    "# 可以看到numpy的数据组织是行优先的，并且列是最基本的元素。不用看什么行优先。\n",
    "# 就记住ndarray的左边维度为高纬度，右边维度为低纬度。数据的排列方式就像是10进制一样，低维度满了，高维度就加一。\n",
    "# 无论是遍历还是reshape，都是按照这种“进位”的方式去遍历每一个元素的。（但是实际上可能并不会遍历每个子元素，可能是内存片操作）\n",
    "# print(grid[0, :])\n",
    "new_grid = grid.reshape([2,3,2])\n",
    "\n",
    "print(\"new_grid:\\n\", new_grid)  \n",
    "print(\"shape of new_grid: \", new_grid.shape) \n",
    "# 注意，concatenate 时，输入的数据应该放在一个列表或者元组中\n",
    "# 矩阵合并，矩阵连接\n",
    "temp = np.concatenate((new_grid, new_grid), axis=2) # axis 指定操作的维度，指定operation被应用到的维度。其他维度保持不变。along\n",
    "print(temp.shape)\n",
    "print('concat with axis=0:\\n', temp)\n",
    "# 神奇，axis 是从左往右的，而填充是从右往左的，维度也是从右往左为升维。注意shape是由一个tuple表示， 这里的axis实际上是tuple的index\n",
    "# 填充时坐标编号的方向和维度的方向是不一样的\n",
    "# 重要！！！！"
   ]
  },
  {
   "cell_type": "markdown",
   "metadata": {
    "slideshow": {
     "slide_type": "subslide"
    }
   },
   "source": [
    "Consider the previous cube."
   ]
  },
  {
   "cell_type": "code",
   "execution_count": 26,
   "metadata": {
    "slideshow": {
     "slide_type": "fragment"
    }
   },
   "outputs": [
    {
     "data": {
      "text/plain": [
       "(3, 5, 4)"
      ]
     },
     "execution_count": 26,
     "metadata": {},
     "output_type": "execute_result"
    }
   ],
   "source": [
    "cube.shape"
   ]
  },
  {
   "cell_type": "code",
   "execution_count": 27,
   "metadata": {
    "slideshow": {
     "slide_type": "fragment"
    }
   },
   "outputs": [
    {
     "data": {
      "text/plain": [
       "60"
      ]
     },
     "execution_count": 27,
     "metadata": {},
     "output_type": "execute_result"
    }
   ],
   "source": [
    "cube.size"
   ]
  },
  {
   "cell_type": "code",
   "execution_count": 28,
   "metadata": {
    "slideshow": {
     "slide_type": "subslide"
    }
   },
   "outputs": [
    {
     "data": {
      "text/plain": [
       "array([1.        , 0.65277313, 0.51257027, 0.14089282, 1.        ,\n",
       "       0.15980645, 0.32076368, 0.78275931, 1.        , 0.88853878,\n",
       "       0.54408603, 0.23009997, 1.        , 0.56813361, 0.52513375,\n",
       "       0.85145469, 1.        , 0.61520611, 0.10445297, 0.10996994,\n",
       "       1.        , 0.13906462, 0.23802236, 0.10378737, 1.        ,\n",
       "       0.34279199, 0.19387757, 0.21570167, 1.        , 0.10600383,\n",
       "       0.59221761, 0.06874337, 1.        , 0.9361781 , 0.6252629 ,\n",
       "       0.70191983, 1.        , 0.27657762, 0.08734925, 0.34590882,\n",
       "       1.        , 0.35039853, 0.22421961, 0.85558362, 1.        ,\n",
       "       0.26697413, 0.88014804, 0.15482724, 1.        , 0.1792176 ,\n",
       "       0.14814205, 0.72827836, 1.        , 0.05422451, 0.16728382,\n",
       "       0.25564346, 1.        , 0.56704635, 0.5586413 , 0.31335511])"
      ]
     },
     "execution_count": 28,
     "metadata": {},
     "output_type": "execute_result"
    }
   ],
   "source": [
    "temp = cube.reshape(-1) #This creates a long array。这个操作能获取到一个长向量。这其实就是flatten操作，矩阵转向量，拉直。类似于view(-1)\n",
    "# slicing, reshape and view 都是返回索引，因此，通过索引对数据进行修改，都会导致原始数据的修改\n",
    "temp"
   ]
  },
  {
   "cell_type": "markdown",
   "metadata": {
    "slideshow": {
     "slide_type": "subslide"
    }
   },
   "source": [
    "#### Concatenation and splitting 连接和切分"
   ]
  },
  {
   "cell_type": "code",
   "execution_count": 42,
   "metadata": {
    "slideshow": {
     "slide_type": "subslide"
    }
   },
   "outputs": [
    {
     "data": {
      "text/plain": [
       "array([1, 2, 3, 3, 2, 1, 4])"
      ]
     },
     "execution_count": 42,
     "metadata": {},
     "output_type": "execute_result"
    }
   ],
   "source": [
    "x = np.array([1, 2, 3])\n",
    "y = np.array([3, 2, 1, 4])\n",
    "np.concatenate([x, y])"
   ]
  },
  {
   "cell_type": "code",
   "execution_count": 43,
   "metadata": {
    "slideshow": {
     "slide_type": "fragment"
    }
   },
   "outputs": [
    {
     "data": {
      "text/plain": [
       "array([ 1,  2,  3,  3,  2,  1,  4, 99, 99])"
      ]
     },
     "execution_count": 43,
     "metadata": {},
     "output_type": "execute_result"
    }
   ],
   "source": [
    "z = [99, 99]\n",
    "np.concatenate([x, y, z])"
   ]
  },
  {
   "cell_type": "markdown",
   "metadata": {
    "slideshow": {
     "slide_type": "subslide"
    }
   },
   "source": [
    "We can also concatenate two-dimensional arrays, e.g.:"
   ]
  },
  {
   "cell_type": "code",
   "execution_count": 44,
   "metadata": {
    "slideshow": {
     "slide_type": "fragment"
    }
   },
   "outputs": [
    {
     "data": {
      "text/plain": [
       "array([[1, 2, 3],\n",
       "       [4, 5, 6]])"
      ]
     },
     "execution_count": 44,
     "metadata": {},
     "output_type": "execute_result"
    }
   ],
   "source": [
    "grid = np.array([[1, 2, 3],\n",
    "                 [4, 5, 6]])\n",
    "grid"
   ]
  },
  {
   "cell_type": "code",
   "execution_count": 45,
   "metadata": {
    "slideshow": {
     "slide_type": "fragment"
    }
   },
   "outputs": [
    {
     "data": {
      "text/plain": [
       "(2, 3)"
      ]
     },
     "execution_count": 45,
     "metadata": {},
     "output_type": "execute_result"
    }
   ],
   "source": [
    "grid.shape"
   ]
  },
  {
   "cell_type": "code",
   "execution_count": 46,
   "metadata": {
    "slideshow": {
     "slide_type": "subslide"
    }
   },
   "outputs": [
    {
     "name": "stdout",
     "output_type": "stream",
     "text": [
      "(2, 3)\n",
      "(4, 3)\n",
      "[[1 2 3]\n",
      " [4 5 6]\n",
      " [1 2 3]\n",
      " [4 5 6]]\n"
     ]
    }
   ],
   "source": [
    "print(grid.shape)\n",
    "print(np.concatenate([grid,grid]).shape)\n",
    "print(np.concatenate([grid,grid]))"
   ]
  },
  {
   "cell_type": "code",
   "execution_count": 47,
   "metadata": {
    "slideshow": {
     "slide_type": "fragment"
    }
   },
   "outputs": [
    {
     "data": {
      "text/plain": [
       "(4, 3)"
      ]
     },
     "execution_count": 47,
     "metadata": {},
     "output_type": "execute_result"
    }
   ],
   "source": [
    "np.concatenate([grid,grid]).shape"
   ]
  },
  {
   "cell_type": "markdown",
   "metadata": {
    "slideshow": {
     "slide_type": "subslide"
    }
   },
   "source": [
    "+ `np.vstack((a,b,c))` is equivalent to 'np.concatenate((a,b,c), axis=0). vertical stacking\n",
    "+ `np.hstack((a,b,c))` is equivalent to 'np.concatenate((a,b,c), axis=1). horizontal stacking\n",
    "+ 指定连接的维度\n",
    "+ 建议使用np.concatenate()"
   ]
  },
  {
   "cell_type": "code",
   "execution_count": 48,
   "metadata": {
    "slideshow": {
     "slide_type": "fragment"
    }
   },
   "outputs": [
    {
     "name": "stdout",
     "output_type": "stream",
     "text": [
      "vstack:\n",
      " [[1 2 3]\n",
      " [9 8 7]\n",
      " [6 5 4]]\n",
      "concat:\n",
      " [[1 2 3]\n",
      " [9 8 7]\n",
      " [6 5 4]]\n"
     ]
    }
   ],
   "source": [
    "x = np.array([[1, 2, 3]])\n",
    "grid = np.array([[9, 8, 7],\n",
    "                 [6, 5, 4]])\n",
    "print('vstack:\\n', np.vstack((x, grid)))\n",
    "print('concat:\\n', np.concatenate((x, grid), axis=0))"
   ]
  },
  {
   "cell_type": "code",
   "execution_count": 49,
   "metadata": {
    "slideshow": {
     "slide_type": "fragment"
    }
   },
   "outputs": [
    {
     "name": "stdout",
     "output_type": "stream",
     "text": [
      "hstack:\n",
      " [[99  9  8  7]\n",
      " [99  6  5  4]]\n",
      "concat:\n",
      " [[99  9  8  7]\n",
      " [99  6  5  4]]\n"
     ]
    }
   ],
   "source": [
    "y = np.array([[99],\n",
    "              [99]])\n",
    "print('hstack:\\n', np.hstack((y, grid)))\n",
    "print('concat:\\n', np.concatenate((y, grid), axis=1))"
   ]
  },
  {
   "cell_type": "markdown",
   "metadata": {
    "slideshow": {
     "slide_type": "subslide"
    }
   },
   "source": [
    "And to conclude, how can we split an array?"
   ]
  },
  {
   "cell_type": "code",
   "execution_count": 50,
   "metadata": {
    "slideshow": {
     "slide_type": "fragment"
    }
   },
   "outputs": [
    {
     "data": {
      "text/plain": [
       "array([[ 0,  1,  2,  3],\n",
       "       [ 4,  5,  6,  7],\n",
       "       [ 8,  9, 10, 11],\n",
       "       [12, 13, 14, 15]])"
      ]
     },
     "execution_count": 50,
     "metadata": {},
     "output_type": "execute_result"
    }
   ],
   "source": [
    "grid = np.arange(16).reshape((4, 4))\n",
    "grid"
   ]
  },
  {
   "cell_type": "code",
   "execution_count": 51,
   "metadata": {},
   "outputs": [
    {
     "name": "stdout",
     "output_type": "stream",
     "text": [
      "[array([[0, 1, 2, 3]]), array([[ 4,  5,  6,  7],\n",
      "       [ 8,  9, 10, 11],\n",
      "       [12, 13, 14, 15]])]\n",
      "[array([[ 0],\n",
      "       [ 4],\n",
      "       [ 8],\n",
      "       [12]]), array([[ 1,  2,  3],\n",
      "       [ 5,  6,  7],\n",
      "       [ 9, 10, 11],\n",
      "       [13, 14, 15]])]\n"
     ]
    }
   ],
   "source": [
    "# 矩阵分割，推荐使用这个，更加通用，并且理解上简单。第一个参数就是源矩阵，第二个参数是分割的脚标，第三个参数是分割的维度（从左往右）\n",
    "# 分割的基本思路是：在什么数据上进行分割（第一个参数），在那个维度上进行分割（第三个参数），在哪里进行分割（分界线？第二个参数）\n",
    "# 注意分界线是用index表示的，并且是index的list，也就是支持多重分割。\n",
    "print(np.split(grid, [1], axis=0))\n",
    "print(np.split(grid, [1], axis=1))"
   ]
  },
  {
   "cell_type": "markdown",
   "metadata": {
    "slideshow": {
     "slide_type": "subslide"
    }
   },
   "source": [
    "We can use both horizontal (`np.hsplit`) or vertical (`np.vsplit`) splitting:"
   ]
  },
  {
   "cell_type": "code",
   "execution_count": 52,
   "metadata": {
    "slideshow": {
     "slide_type": "fragment"
    }
   },
   "outputs": [
    {
     "name": "stdout",
     "output_type": "stream",
     "text": [
      "[[0 1 2 3]]\n",
      "=========\n",
      "[[4 5 6 7]]\n",
      "=========\n",
      "[[ 8  9 10 11]\n",
      " [12 13 14 15]]\n"
     ]
    }
   ],
   "source": [
    "upper, middle, lower = np.vsplit(grid, [1, 2]) # (row-wise), 第二个参数是分割的脚标，脚标从1开始\n",
    "print (upper)\n",
    "print (\"=========\")\n",
    "print (middle)\n",
    "print (\"=========\")\n",
    "print (lower)"
   ]
  },
  {
   "cell_type": "code",
   "execution_count": 53,
   "metadata": {
    "slideshow": {
     "slide_type": "fragment"
    }
   },
   "outputs": [
    {
     "name": "stdout",
     "output_type": "stream",
     "text": [
      "[[ 0  1]\n",
      " [ 4  5]\n",
      " [ 8  9]\n",
      " [12 13]]\n",
      "=========\n",
      "[[ 2  3]\n",
      " [ 6  7]\n",
      " [10 11]\n",
      " [14 15]]\n"
     ]
    }
   ],
   "source": [
    "left, right = np.hsplit(grid, [2]) # (column-wise)\n",
    "print (left)\n",
    "print (\"=========\")\n",
    "print (right)"
   ]
  },
  {
   "cell_type": "markdown",
   "metadata": {
    "slideshow": {
     "slide_type": "subslide"
    }
   },
   "source": [
    "Minimum, maximum, average:"
   ]
  },
  {
   "cell_type": "code",
   "execution_count": 54,
   "metadata": {
    "slideshow": {
     "slide_type": "subslide"
    }
   },
   "outputs": [
    {
     "data": {
      "text/plain": [
       "array([[ 0,  1,  2,  3],\n",
       "       [ 4,  5,  6,  7],\n",
       "       [ 8,  9, 10, 11],\n",
       "       [12, 13, 14, 15]])"
      ]
     },
     "execution_count": 54,
     "metadata": {},
     "output_type": "execute_result"
    }
   ],
   "source": [
    "grid"
   ]
  },
  {
   "cell_type": "code",
   "execution_count": 55,
   "metadata": {
    "slideshow": {
     "slide_type": "fragment"
    }
   },
   "outputs": [
    {
     "data": {
      "text/plain": [
       "15"
      ]
     },
     "execution_count": 55,
     "metadata": {},
     "output_type": "execute_result"
    }
   ],
   "source": [
    "np.max(grid) # 最大值，默认为将数据flatten之后进行求解。可以指定操作的维度。"
   ]
  },
  {
   "cell_type": "code",
   "execution_count": 56,
   "metadata": {
    "slideshow": {
     "slide_type": "fragment"
    }
   },
   "outputs": [
    {
     "data": {
      "text/plain": [
       "array([12, 13, 14, 15])"
      ]
     },
     "execution_count": 56,
     "metadata": {},
     "output_type": "execute_result"
    }
   ],
   "source": [
    "np.max(grid, axis=0)"
   ]
  },
  {
   "cell_type": "code",
   "execution_count": 57,
   "metadata": {
    "slideshow": {
     "slide_type": "fragment"
    }
   },
   "outputs": [
    {
     "data": {
      "text/plain": [
       "array([ 3,  7, 11, 15])"
      ]
     },
     "execution_count": 57,
     "metadata": {},
     "output_type": "execute_result"
    }
   ],
   "source": [
    "np.max(grid, axis=1)"
   ]
  },
  {
   "cell_type": "code",
   "execution_count": 58,
   "metadata": {
    "slideshow": {
     "slide_type": "subslide"
    }
   },
   "outputs": [
    {
     "data": {
      "text/plain": [
       "0"
      ]
     },
     "execution_count": 58,
     "metadata": {},
     "output_type": "execute_result"
    }
   ],
   "source": [
    "np.min(grid)  # 最小值，默认为将数据flatten之后进行求解。可以指定操作的维度。"
   ]
  },
  {
   "cell_type": "code",
   "execution_count": 59,
   "metadata": {
    "slideshow": {
     "slide_type": "subslide"
    }
   },
   "outputs": [
    {
     "data": {
      "text/plain": [
       "7.5"
      ]
     },
     "execution_count": 59,
     "metadata": {},
     "output_type": "execute_result"
    }
   ],
   "source": [
    "np.average(grid)  # 平均值，默认为将数据flatten之后进行求解。可以指定操作的维度。"
   ]
  },
  {
   "cell_type": "code",
   "execution_count": 60,
   "metadata": {
    "slideshow": {
     "slide_type": "fragment"
    }
   },
   "outputs": [
    {
     "data": {
      "text/plain": [
       "array([6., 7., 8., 9.])"
      ]
     },
     "execution_count": 60,
     "metadata": {},
     "output_type": "execute_result"
    }
   ],
   "source": [
    "np.average(grid,axis=0)"
   ]
  },
  {
   "cell_type": "code",
   "execution_count": 61,
   "metadata": {
    "slideshow": {
     "slide_type": "fragment"
    }
   },
   "outputs": [
    {
     "data": {
      "text/plain": [
       "array([ 1.5,  5.5,  9.5, 13.5])"
      ]
     },
     "execution_count": 61,
     "metadata": {},
     "output_type": "execute_result"
    }
   ],
   "source": [
    "np.average(grid,axis=1)"
   ]
  },
  {
   "cell_type": "markdown",
   "metadata": {
    "slideshow": {
     "slide_type": "slide"
    }
   },
   "source": [
    "#### The slowness of loops in Python"
   ]
  },
  {
   "cell_type": "code",
   "execution_count": 30,
   "metadata": {
    "slideshow": {
     "slide_type": "skip"
    }
   },
   "outputs": [],
   "source": [
    "#!echo \"y\" | conda install memory_profiler\n",
    "# %load_ext memory_profiler"
   ]
  },
  {
   "cell_type": "code",
   "execution_count": 31,
   "metadata": {},
   "outputs": [
    {
     "data": {
      "text/plain": [
       "array([4, 7, 8, 1, 9])"
      ]
     },
     "execution_count": 31,
     "metadata": {},
     "output_type": "execute_result"
    }
   ],
   "source": [
    "# 随机数，随机整数\n",
    "# randint(low, high=None, size=None, dtype=int)\n",
    "# Return random integers from low (inclusive) to high (exclusive).\n",
    "np.random.randint(1, 10, size=5)"
   ]
  },
  {
   "cell_type": "code",
   "execution_count": 32,
   "metadata": {
    "slideshow": {
     "slide_type": "subslide"
    }
   },
   "outputs": [
    {
     "data": {
      "text/plain": [
       "array([0.16666667, 1.        , 0.25      , 0.25      , 0.125     ])"
      ]
     },
     "execution_count": 32,
     "metadata": {},
     "output_type": "execute_result"
    }
   ],
   "source": [
    "# numpy运算和for循环运算的效率对比\n",
    "import numpy as np\n",
    "np.random.seed(0)\n",
    "def compute_reciprocals(values):\n",
    "    output = np.empty(len(values)) # 预先申请内存\n",
    "    for i in range(len(values)):\n",
    "        output[i] = 1.0 / values[i] \n",
    "    return output\n",
    "\n",
    "values = np.random.randint(1, 10, size=5) # 随机数，随机整数\n",
    "compute_reciprocals(values)"
   ]
  },
  {
   "cell_type": "code",
   "execution_count": 37,
   "metadata": {},
   "outputs": [
    {
     "name": "stdout",
     "output_type": "stream",
     "text": [
      "8.2 ms ± 193 µs per loop (mean ± std. dev. of 7 runs, 100 loops each)\n"
     ]
    }
   ],
   "source": [
    "# 这里使用 %timeit 来计算一行代码的执行时间。但是这个命令实际上执行了 runs*loops 次该行代码，然后进行性能分析。\n",
    "# 比如这里，下面的这行代码的平均执行时间是8.2 ms\n",
    "big_array = np.random.randint(1, 100, size=1000000)\n",
    "%timeit big_array = np.random.randint(1, 100, size=1000000)\n",
    "# 排查一下为什么我的向量运算反而更慢，单核的问题？"
   ]
  },
  {
   "cell_type": "code",
   "execution_count": 38,
   "metadata": {
    "slideshow": {
     "slide_type": "subslide"
    }
   },
   "outputs": [
    {
     "name": "stdout",
     "output_type": "stream",
     "text": [
      "1.51 s ± 11.5 ms per loop (mean ± std. dev. of 7 runs, 1 loop each)\n"
     ]
    }
   ],
   "source": [
    "# 比如这里，下面的这行代码的平均执行时间是 1.5s\n",
    "%timeit compute_reciprocals(big_array)"
   ]
  },
  {
   "cell_type": "markdown",
   "metadata": {
    "slideshow": {
     "slide_type": "fragment"
    }
   },
   "source": [
    "If we do it as a vectorized operation"
   ]
  },
  {
   "cell_type": "code",
   "execution_count": 39,
   "metadata": {
    "slideshow": {
     "slide_type": "fragment"
    }
   },
   "outputs": [
    {
     "name": "stdout",
     "output_type": "stream",
     "text": [
      "1.69 ms ± 8.39 µs per loop (mean ± std. dev. of 7 runs, 1,000 loops each)\n"
     ]
    }
   ],
   "source": [
    "%timeit (1.0 / big_array)\n",
    "# 可以看到的是，numpy自身的数据运算比for循环快多了快了几乎1000倍。"
   ]
  },
  {
   "cell_type": "markdown",
   "metadata": {
    "slideshow": {
     "slide_type": "subslide"
    }
   },
   "source": [
    "#### Operations that we can perform\n",
    "Numpy的基本数学运算。注意numpy的基本数学运算（+, -, *, /, **都是element-wise operator）"
   ]
  },
  {
   "cell_type": "code",
   "execution_count": null,
   "metadata": {
    "slideshow": {
     "slide_type": "subslide"
    }
   },
   "outputs": [
    {
     "data": {
      "text/plain": [
       "array([0. , 0.1, 0.2, 0.3, 0.4, 0.5, 0.6, 0.7, 0.8, 0.9, 1. , 1.1, 1.2,\n",
       "       1.3, 1.4, 1.5, 1.6, 1.7, 1.8, 1.9, 2. , 2.1, 2.2, 2.3, 2.4, 2.5,\n",
       "       2.6, 2.7, 2.8, 2.9, 3. , 3.1, 3.2, 3.3, 3.4, 3.5, 3.6, 3.7, 3.8,\n",
       "       3.9, 4. , 4.1, 4.2, 4.3, 4.4, 4.5, 4.6, 4.7, 4.8, 4.9, 5. , 5.1,\n",
       "       5.2, 5.3, 5.4, 5.5, 5.6, 5.7, 5.8, 5.9, 6. , 6.1, 6.2, 6.3, 6.4,\n",
       "       6.5, 6.6, 6.7, 6.8, 6.9, 7. , 7.1, 7.2, 7.3, 7.4, 7.5, 7.6, 7.7,\n",
       "       7.8, 7.9, 8. , 8.1, 8.2, 8.3, 8.4, 8.5, 8.6, 8.7, 8.8, 8.9, 9. ,\n",
       "       9.1, 9.2, 9.3, 9.4, 9.5, 9.6, 9.7, 9.8, 9.9])"
      ]
     },
     "execution_count": 103,
     "metadata": {},
     "output_type": "execute_result"
    }
   ],
   "source": [
    "# arange([start,] stop[, step,], dtype=None, *, like=None)\n",
    "x=np.arange(0,10,0.1) # [start, stop)\n",
    "x"
   ]
  },
  {
   "cell_type": "code",
   "execution_count": null,
   "metadata": {
    "slideshow": {
     "slide_type": "fragment"
    }
   },
   "outputs": [
    {
     "data": {
      "text/plain": [
       "array([ 0.,  1.,  2.,  3.,  4.,  5.,  6.,  7.,  8.,  9., 10., 11., 12.,\n",
       "       13., 14., 15., 16., 17., 18., 19.])"
      ]
     },
     "execution_count": 88,
     "metadata": {},
     "output_type": "execute_result"
    }
   ],
   "source": [
    "x+x"
   ]
  },
  {
   "cell_type": "code",
   "execution_count": null,
   "metadata": {
    "slideshow": {
     "slide_type": "fragment"
    }
   },
   "outputs": [
    {
     "data": {
      "text/plain": [
       "array([ 0.,  1.,  2.,  3.,  4.,  5.,  6.,  7.,  8.,  9., 10., 11., 12.,\n",
       "       13., 14., 15., 16., 17., 18., 19.])"
      ]
     },
     "execution_count": 89,
     "metadata": {},
     "output_type": "execute_result"
    }
   ],
   "source": [
    "2*x"
   ]
  },
  {
   "cell_type": "code",
   "execution_count": null,
   "metadata": {
    "slideshow": {
     "slide_type": "fragment"
    }
   },
   "outputs": [
    {
     "data": {
      "text/plain": [
       "array([ 0.  ,  0.25,  1.  ,  2.25,  4.  ,  6.25,  9.  , 12.25, 16.  ,\n",
       "       20.25, 25.  , 30.25, 36.  , 42.25, 49.  , 56.25, 64.  , 72.25,\n",
       "       81.  , 90.25])"
      ]
     },
     "execution_count": 90,
     "metadata": {},
     "output_type": "execute_result"
    }
   ],
   "source": [
    "x**2 # 指数"
   ]
  },
  {
   "cell_type": "code",
   "execution_count": null,
   "metadata": {},
   "outputs": [
    {
     "data": {
      "text/plain": [
       "array([ 0.  , -0.25,  0.  ,  0.75,  2.  ,  3.75,  6.  ,  8.75, 12.  ,\n",
       "       15.75, 20.  , 24.75, 30.  , 35.75, 42.  , 48.75, 56.  , 63.75,\n",
       "       72.  , 80.75])"
      ]
     },
     "execution_count": 91,
     "metadata": {},
     "output_type": "execute_result"
    }
   ],
   "source": [
    "x**2 - x"
   ]
  },
  {
   "cell_type": "markdown",
   "metadata": {},
   "source": [
    "You may need to execute the following line of code if the next line does not work.\n",
    "\n",
    "`!echo \"y\" | conda install matplotlib`"
   ]
  },
  {
   "cell_type": "code",
   "execution_count": null,
   "metadata": {
    "slideshow": {
     "slide_type": "skip"
    }
   },
   "outputs": [],
   "source": [
    "#!pip install matplotlib\n",
    "%matplotlib inline\n",
    "from matplotlib import pyplot as plt"
   ]
  },
  {
   "cell_type": "code",
   "execution_count": null,
   "metadata": {
    "slideshow": {
     "slide_type": "subslide"
    }
   },
   "outputs": [
    {
     "data": {
      "image/png": "[encoded data removed]",
      "text/plain": [
       "<Figure size 640x480 with 1 Axes>"
      ]
     },
     "metadata": {},
     "output_type": "display_data"
    }
   ],
   "source": [
    "plt.plot(x,x);"
   ]
  },
  {
   "cell_type": "code",
   "execution_count": null,
   "metadata": {
    "slideshow": {
     "slide_type": "subslide"
    }
   },
   "outputs": [
    {
     "data": {
      "image/png": "[encoded data removed]",
      "text/plain": [
       "<Figure size 640x480 with 1 Axes>"
      ]
     },
     "metadata": {},
     "output_type": "display_data"
    }
   ],
   "source": [
    "plt.plot(x,x**2);"
   ]
  },
  {
   "cell_type": "markdown",
   "metadata": {
    "slideshow": {
     "slide_type": "subslide"
    }
   },
   "source": [
    "Extra functions:"
   ]
  },
  {
   "cell_type": "code",
   "execution_count": null,
   "metadata": {
    "slideshow": {
     "slide_type": "fragment"
    }
   },
   "outputs": [
    {
     "data": {
      "text/plain": [
       "array([ 0.        ,  0.47942554,  0.84147098,  0.99749499,  0.90929743,\n",
       "        0.59847214,  0.14112001, -0.35078323, -0.7568025 , -0.97753012,\n",
       "       -0.95892427, -0.70554033, -0.2794155 ,  0.21511999,  0.6569866 ,\n",
       "        0.93799998,  0.98935825,  0.79848711,  0.41211849, -0.07515112])"
      ]
     },
     "execution_count": 95,
     "metadata": {},
     "output_type": "execute_result"
    }
   ],
   "source": [
    "np.sin(x)"
   ]
  },
  {
   "cell_type": "code",
   "execution_count": null,
   "metadata": {
    "slideshow": {
     "slide_type": "subslide"
    }
   },
   "outputs": [
    {
     "data": {
      "image/png": "[encoded data removed]",
      "text/plain": [
       "<Figure size 640x480 with 1 Axes>"
      ]
     },
     "metadata": {},
     "output_type": "display_data"
    }
   ],
   "source": [
    "plt.plot(x,np.sin(x));"
   ]
  },
  {
   "cell_type": "code",
   "execution_count": null,
   "metadata": {
    "slideshow": {
     "slide_type": "subslide"
    }
   },
   "outputs": [
    {
     "data": {
      "image/png": "[encoded data removed]",
      "text/plain": [
       "<Figure size 640x480 with 1 Axes>"
      ]
     },
     "metadata": {},
     "output_type": "display_data"
    }
   ],
   "source": [
    "plt.plot(x,np.sin(x));\n",
    "plt.plot(x,np.cos(x));"
   ]
  },
  {
   "cell_type": "markdown",
   "metadata": {
    "slideshow": {
     "slide_type": "subslide"
    }
   },
   "source": [
    "Sign function:"
   ]
  },
  {
   "cell_type": "code",
   "execution_count": null,
   "metadata": {
    "slideshow": {
     "slide_type": "fragment"
    }
   },
   "outputs": [],
   "source": [
    "# zip的功能就是对齐迭代，这里zip的返回值就是三元组 (x, np.sin(x), np.sign(np.sin(x)))\n",
    "# np.sign() 是numpy的符号函数\n",
    "for x_v,fx,fxx in zip(x,np.sin(x),np.sign(np.sin(x))):\n",
    "    print (\"%.2f %.2f %.2f\" % (x_v,fx,fxx))"
   ]
  },
  {
   "cell_type": "code",
   "execution_count": null,
   "metadata": {
    "slideshow": {
     "slide_type": "subslide"
    }
   },
   "outputs": [
    {
     "data": {
      "image/png": "[encoded data removed]",
      "text/plain": [
       "<Figure size 640x480 with 1 Axes>"
      ]
     },
     "metadata": {},
     "output_type": "display_data"
    }
   ],
   "source": [
    "plt.plot(x,np.sin(x));\n",
    "plt.plot(x,np.sign(np.sin(x)));"
   ]
  },
  {
   "cell_type": "markdown",
   "metadata": {
    "slideshow": {
     "slide_type": "subslide"
    }
   },
   "source": [
    "Absolute function:"
   ]
  },
  {
   "cell_type": "code",
   "execution_count": null,
   "metadata": {
    "slideshow": {
     "slide_type": "fragment"
    }
   },
   "outputs": [
    {
     "data": {
      "image/png": "[encoded data removed]",
      "text/plain": [
       "<Figure size 640x480 with 1 Axes>"
      ]
     },
     "metadata": {},
     "output_type": "display_data"
    }
   ],
   "source": [
    "plt.plot(x,np.sin(x));\n",
    "plt.plot(x,np.abs(np.sin(x))); # 绝对值"
   ]
  },
  {
   "cell_type": "markdown",
   "metadata": {
    "slideshow": {
     "slide_type": "subslide"
    }
   },
   "source": [
    "#### Broadcasting 广播"
   ]
  },
  {
   "cell_type": "markdown",
   "metadata": {
    "slideshow": {
     "slide_type": "fragment"
    }
   },
   "source": [
    "A set of rules for applying binary operators (addition, subtraction, multiplication, etc.) on arrays of different sizes."
   ]
  },
  {
   "cell_type": "code",
   "execution_count": null,
   "metadata": {},
   "outputs": [],
   "source": [
    "# broadcast 是一种维度对齐操作，对齐的时候，通过copy element进行填充\n",
    "# 广播的时候，会根据向量的长度自动判断应该执行行扩展还是列扩展。\n",
    "# 当行列都行的时候，默认是进行列扩展，也就是将向量当做行向量。从维度的角度来说就是，将(3,)变成(1, 3)\n",
    "# 也遵循了‘进位’思路。也就是自动扩充维度，并且因为左边的维度是高维度，所以向左扩展。\n",
    "# 为了能自定义扩展的方向，可以通过view, reshape等操作去修改shape，如a.reshape((3, 1))"
   ]
  },
  {
   "cell_type": "code",
   "execution_count": null,
   "metadata": {
    "slideshow": {
     "slide_type": "subslide"
    }
   },
   "outputs": [
    {
     "name": "stdout",
     "output_type": "stream",
     "text": [
      "(100,)\n"
     ]
    }
   ],
   "source": [
    "x\n",
    "print(x.shape)"
   ]
  },
  {
   "cell_type": "code",
   "execution_count": null,
   "metadata": {
    "slideshow": {
     "slide_type": "fragment"
    }
   },
   "outputs": [
    {
     "data": {
      "text/plain": [
       "array([ 5. ,  5.1,  5.2,  5.3,  5.4,  5.5,  5.6,  5.7,  5.8,  5.9,  6. ,\n",
       "        6.1,  6.2,  6.3,  6.4,  6.5,  6.6,  6.7,  6.8,  6.9,  7. ,  7.1,\n",
       "        7.2,  7.3,  7.4,  7.5,  7.6,  7.7,  7.8,  7.9,  8. ,  8.1,  8.2,\n",
       "        8.3,  8.4,  8.5,  8.6,  8.7,  8.8,  8.9,  9. ,  9.1,  9.2,  9.3,\n",
       "        9.4,  9.5,  9.6,  9.7,  9.8,  9.9, 10. , 10.1, 10.2, 10.3, 10.4,\n",
       "       10.5, 10.6, 10.7, 10.8, 10.9, 11. , 11.1, 11.2, 11.3, 11.4, 11.5,\n",
       "       11.6, 11.7, 11.8, 11.9, 12. , 12.1, 12.2, 12.3, 12.4, 12.5, 12.6,\n",
       "       12.7, 12.8, 12.9, 13. , 13.1, 13.2, 13.3, 13.4, 13.5, 13.6, 13.7,\n",
       "       13.8, 13.9, 14. , 14.1, 14.2, 14.3, 14.4, 14.5, 14.6, 14.7, 14.8,\n",
       "       14.9])"
      ]
     },
     "execution_count": 112,
     "metadata": {},
     "output_type": "execute_result"
    }
   ],
   "source": [
    "5+x # broadcast 5 成为一个 (100, 1) 的matrix，然后执行矩阵加法"
   ]
  },
  {
   "cell_type": "code",
   "execution_count": 40,
   "metadata": {
    "slideshow": {
     "slide_type": "subslide"
    }
   },
   "outputs": [
    {
     "data": {
      "text/plain": [
       "array([[1., 1., 1.],\n",
       "       [1., 1., 1.],\n",
       "       [1., 1., 1.]])"
      ]
     },
     "execution_count": 40,
     "metadata": {},
     "output_type": "execute_result"
    }
   ],
   "source": [
    "M=np.ones((3,3))\n",
    "M"
   ]
  },
  {
   "cell_type": "code",
   "execution_count": 41,
   "metadata": {
    "slideshow": {
     "slide_type": "fragment"
    }
   },
   "outputs": [
    {
     "data": {
      "text/plain": [
       "array([[6., 6., 6.],\n",
       "       [6., 6., 6.],\n",
       "       [6., 6., 6.]])"
      ]
     },
     "execution_count": 41,
     "metadata": {},
     "output_type": "execute_result"
    }
   ],
   "source": [
    "M+5"
   ]
  },
  {
   "cell_type": "code",
   "execution_count": 42,
   "metadata": {
    "slideshow": {
     "slide_type": "subslide"
    }
   },
   "outputs": [
    {
     "data": {
      "text/plain": [
       "array([[1., 1., 1.],\n",
       "       [1., 1., 1.],\n",
       "       [1., 1., 1.]])"
      ]
     },
     "execution_count": 42,
     "metadata": {},
     "output_type": "execute_result"
    }
   ],
   "source": [
    "M"
   ]
  },
  {
   "cell_type": "code",
   "execution_count": 43,
   "metadata": {
    "slideshow": {
     "slide_type": "fragment"
    }
   },
   "outputs": [
    {
     "name": "stdout",
     "output_type": "stream",
     "text": [
      "[1 2 3]\n",
      "(3,)\n"
     ]
    }
   ],
   "source": [
    "a=np.array([1,2,3]) # 默认为向量，不是矩阵，但是直接获取shape的话，因为它还只是向量，不是矩阵，所以可能看起来就是(3,)\n",
    "print(a)\n",
    "print(a.shape)"
   ]
  },
  {
   "cell_type": "code",
   "execution_count": 44,
   "metadata": {
    "slideshow": {
     "slide_type": "fragment"
    }
   },
   "outputs": [
    {
     "data": {
      "text/plain": [
       "array([[2., 3., 4.],\n",
       "       [2., 3., 4.],\n",
       "       [2., 3., 4.]])"
      ]
     },
     "execution_count": 44,
     "metadata": {},
     "output_type": "execute_result"
    }
   ],
   "source": [
    "M+a # 此处broadcast 了行，将(3,) broadcast 成(3,3)\n",
    "# broadcast 是一种维度对齐操作，对齐的时候，通过copy element进行填充\n",
    "# 广播的时候，会根据向量的长度自动判断应该执行行扩展还是列扩展。\n",
    "# 当行列都行的时候，默认是进行列扩展，也就是将向量当做行向量。从维度的角度来说就是，将(3,)变成(1, 3)\n",
    "# 也遵循了‘进位’思路。也就是自动扩充维度，并且因为左边的维度是高维度，所以向左扩展。\n",
    "# 为了能自定义扩展的方向，可以通过view, reshape等操作去修改shape，如a.reshape((3, 1))"
   ]
  },
  {
   "cell_type": "code",
   "execution_count": 45,
   "metadata": {
    "slideshow": {
     "slide_type": "subslide"
    }
   },
   "outputs": [
    {
     "data": {
      "text/plain": [
       "array([[2., 2., 2.],\n",
       "       [3., 3., 3.],\n",
       "       [4., 4., 4.]])"
      ]
     },
     "execution_count": 45,
     "metadata": {},
     "output_type": "execute_result"
    }
   ],
   "source": [
    "M+a.reshape((3, 1))"
   ]
  },
  {
   "cell_type": "code",
   "execution_count": null,
   "metadata": {
    "slideshow": {
     "slide_type": "fragment"
    }
   },
   "outputs": [
    {
     "data": {
      "text/plain": [
       "array([[1],\n",
       "       [2],\n",
       "       [3]])"
      ]
     },
     "execution_count": 31,
     "metadata": {},
     "output_type": "execute_result"
    }
   ],
   "source": [
    "a.reshape(3, 1) # 将向量变为矩阵，增加一个维度。但是注意，这里需要定义行向量还是列向量"
   ]
  },
  {
   "cell_type": "code",
   "execution_count": 9,
   "metadata": {},
   "outputs": [
    {
     "name": "stdout",
     "output_type": "stream",
     "text": [
      "3.25\n",
      "3.5\n",
      "[0 1 1 0 0 2]\n"
     ]
    },
    {
     "name": "stderr",
     "output_type": "stream",
     "text": [
      "/tmp/ipykernel_12508/1360654034.py:19: FutureWarning: Unlike other reduction functions (e.g. `skew`, `kurtosis`), the default behavior of `mode` typically preserves the axis it acts along. In SciPy 1.11.0, this behavior will change: the default value of `keepdims` will become False, the `axis` over which the statistic is taken will be eliminated, and the value None will no longer be accepted. Set `keepdims` to True or False to avoid this warning.\n",
      "  stats.mode(a)[0][0]\n"
     ]
    },
    {
     "data": {
      "text/plain": [
       "5"
      ]
     },
     "execution_count": 9,
     "metadata": {},
     "output_type": "execute_result"
    }
   ],
   "source": [
    "# python求均值、中位数、众数\n",
    "# 求均值和中位数均可以使用numpy库的方法：\n",
    "import numpy as np\n",
    "a=np.array([1,2,5,5])\n",
    "#均值\n",
    "print(np.mean(a))\n",
    "#中位数\n",
    "print(np.median(a))\n",
    "\n",
    "# 求众数方法一：\n",
    "# 在numpy中没有直接的方法，但是也可以这样实现：\n",
    "import numpy as np\n",
    "# Count number of occurrences of each value in array of non-negative ints.\n",
    "# np.bincount 函数实际上返回的是一个统计直方图的向量。\n",
    "# np.bincount 返回值的长度等于输入向量的最大元素值加一。\n",
    "# np.bincount 的返回值就像是一个坐标值，这里的[0 1 1 0 0 2]表示[0(0出现0次) 1(1出现1次) 1(2出现0次) 0(3出现0次) 0(4出现0次) 2(5出现2次)]\n",
    "counts = np.bincount(a) # 返回众数 most common value\n",
    "print(counts)\n",
    "\n",
    "# 求众数方法二——直接利用scipy下stats模块【推荐】：\n",
    "from scipy import stats\n",
    "stats.mode(a)[0][0]"
   ]
  },
  {
   "cell_type": "markdown",
   "metadata": {
    "slideshow": {
     "slide_type": "subslide"
    }
   },
   "source": [
    "#### Comparisons and masks 元素比较和掩码"
   ]
  },
  {
   "cell_type": "markdown",
   "metadata": {
    "slideshow": {
     "slide_type": "subslide"
    }
   },
   "source": [
    "Let's assume we have an array of sine value and want to see only the positive values:"
   ]
  },
  {
   "cell_type": "code",
   "execution_count": 2,
   "metadata": {
    "slideshow": {
     "slide_type": "fragment"
    }
   },
   "outputs": [
    {
     "name": "stdout",
     "output_type": "stream",
     "text": [
      "[ 0.          0.09983342  0.19866933  0.29552021  0.38941834  0.47942554\n",
      "  0.56464247  0.64421769  0.71735609  0.78332691  0.84147098  0.89120736\n",
      "  0.93203909  0.96355819  0.98544973  0.99749499  0.9995736   0.99166481\n",
      "  0.97384763  0.94630009  0.90929743  0.86320937  0.8084964   0.74570521\n",
      "  0.67546318  0.59847214  0.51550137  0.42737988  0.33498815  0.23924933\n",
      "  0.14112001  0.04158066 -0.05837414 -0.15774569 -0.2555411  -0.35078323\n",
      " -0.44252044 -0.52983614 -0.61185789 -0.68776616 -0.7568025  -0.81827711\n",
      " -0.87157577 -0.91616594 -0.95160207 -0.97753012 -0.993691   -0.99992326\n",
      " -0.99616461 -0.98245261 -0.95892427 -0.92581468 -0.88345466 -0.83226744\n",
      " -0.77276449 -0.70554033 -0.63126664 -0.55068554 -0.46460218 -0.37387666\n",
      " -0.2794155  -0.1821625  -0.0830894   0.0168139   0.1165492   0.21511999\n",
      "  0.31154136  0.40484992  0.49411335  0.57843976  0.6569866   0.72896904\n",
      "  0.79366786  0.85043662  0.8987081   0.93799998  0.96791967  0.98816823\n",
      "  0.99854335  0.99894134  0.98935825  0.96988981  0.94073056  0.90217183\n",
      "  0.85459891  0.79848711  0.7343971   0.66296923  0.58491719  0.50102086\n",
      "  0.41211849  0.31909836  0.22288991  0.12445442  0.02477543 -0.07515112\n",
      " -0.17432678 -0.27176063 -0.36647913 -0.45753589]\n"
     ]
    }
   ],
   "source": [
    "import numpy as np\n",
    "x=np.arange(0,10,0.1)\n",
    "sinx = np.sin(x)\n",
    "print(sinx)"
   ]
  },
  {
   "cell_type": "markdown",
   "metadata": {
    "slideshow": {
     "slide_type": "fragment"
    }
   },
   "source": [
    "We can use masks to filter out some elemenst fron an array.  \n",
    "可以使用mask（一个数组，或者矩阵）去过滤元素，或者选择部分元素，筛选部分元素。  \n",
    "A mask is a boolean array with which we can filter an array.  \n",
    "mask实际上是一个boolean数组或者矩阵"
   ]
  },
  {
   "cell_type": "code",
   "execution_count": 3,
   "metadata": {
    "slideshow": {
     "slide_type": "fragment"
    }
   },
   "outputs": [
    {
     "data": {
      "text/plain": [
       "array([False,  True,  True,  True,  True,  True,  True,  True,  True,\n",
       "        True,  True,  True,  True,  True,  True,  True,  True,  True,\n",
       "        True,  True,  True,  True,  True,  True,  True,  True,  True,\n",
       "        True,  True,  True,  True,  True, False, False, False, False,\n",
       "       False, False, False, False, False, False, False, False, False,\n",
       "       False, False, False, False, False, False, False, False, False,\n",
       "       False, False, False, False, False, False, False, False, False,\n",
       "        True,  True,  True,  True,  True,  True,  True,  True,  True,\n",
       "        True,  True,  True,  True,  True,  True,  True,  True,  True,\n",
       "        True,  True,  True,  True,  True,  True,  True,  True,  True,\n",
       "        True,  True,  True,  True,  True, False, False, False, False,\n",
       "       False])"
      ]
     },
     "execution_count": 3,
     "metadata": {},
     "output_type": "execute_result"
    }
   ],
   "source": [
    "sinx>0.0 # 比较数组元素和常量，返回boolean数组"
   ]
  },
  {
   "cell_type": "markdown",
   "metadata": {
    "slideshow": {
     "slide_type": "subslide"
    }
   },
   "source": [
    "If we index an array with these boolean values, we will apply the mask."
   ]
  },
  {
   "cell_type": "code",
   "execution_count": null,
   "metadata": {
    "slideshow": {
     "slide_type": "fragment"
    }
   },
   "outputs": [
    {
     "data": {
      "text/plain": [
       "array([0.09983342, 0.19866933, 0.29552021, 0.38941834, 0.47942554,\n",
       "       0.56464247, 0.64421769, 0.71735609, 0.78332691, 0.84147098,\n",
       "       0.89120736, 0.93203909, 0.96355819, 0.98544973, 0.99749499,\n",
       "       0.9995736 , 0.99166481, 0.97384763, 0.94630009, 0.90929743,\n",
       "       0.86320937, 0.8084964 , 0.74570521, 0.67546318, 0.59847214,\n",
       "       0.51550137, 0.42737988, 0.33498815, 0.23924933, 0.14112001,\n",
       "       0.04158066, 0.0168139 , 0.1165492 , 0.21511999, 0.31154136,\n",
       "       0.40484992, 0.49411335, 0.57843976, 0.6569866 , 0.72896904,\n",
       "       0.79366786, 0.85043662, 0.8987081 , 0.93799998, 0.96791967,\n",
       "       0.98816823, 0.99854335, 0.99894134, 0.98935825, 0.96988981,\n",
       "       0.94073056, 0.90217183, 0.85459891, 0.79848711, 0.7343971 ,\n",
       "       0.66296923, 0.58491719, 0.50102086, 0.41211849, 0.31909836,\n",
       "       0.22288991, 0.12445442, 0.02477543])"
      ]
     },
     "execution_count": 126,
     "metadata": {},
     "output_type": "execute_result"
    }
   ],
   "source": [
    "sinx[sinx>0.0] # 蒙版操作"
   ]
  },
  {
   "cell_type": "markdown",
   "metadata": {},
   "source": [
    "### Matrix multiplication\n",
    "矩阵运算都是由np, np.linalg and np.matrix 等执行的。  \n",
    "np.linalg 是numpy的线性代数库。支持各种线性代数计算。     \n",
    "np.matrix 是numpy的矩阵类，支持部分矩阵运算。  "
   ]
  },
  {
   "cell_type": "code",
   "execution_count": null,
   "metadata": {
    "slideshow": {
     "slide_type": "subslide"
    }
   },
   "outputs": [
    {
     "name": "stdout",
     "output_type": "stream",
     "text": [
      "逆:\n",
      " [[-2.   1. ]\n",
      " [ 1.5 -0.5]]\n",
      "矩阵除法:\n",
      " [[1.0000000e+00 4.4408921e-16]\n",
      " [0.0000000e+00 1.0000000e+00]]\n",
      "逆:\n",
      " [[-2.   1. ]\n",
      " [ 1.5 -0.5]]\n",
      "矩阵除法:\n",
      " [[1.0000000e+00 4.4408921e-16]\n",
      " [0.0000000e+00 1.0000000e+00]]\n",
      "逆:\n",
      " [[-2.   1. ]\n",
      " [ 1.5 -0.5]]\n",
      "矩阵除法:\n",
      " [[1.0000000e+00 4.4408921e-16]\n",
      " [0.0000000e+00 1.0000000e+00]]\n",
      "伪逆:\n",
      " [[-2.   1. ]\n",
      " [ 1.5 -0.5]]\n",
      "矩阵除法:\n",
      " [[ 1.0000000e+00  0.0000000e+00]\n",
      " [-4.4408921e-16  1.0000000e+00]]\n"
     ]
    }
   ],
   "source": [
    "A = np.array([[5,9],[1,2],[1,2]])\n",
    "B = np.array([[1,2],[3,4]])\n",
    "\n",
    "# print(np.dot(A,B)) # 矩阵乘法又称为点积，因此在numpy中使用的是dot函数\n",
    "# 复习以下矩阵的运算符号有哪些，于numpy中的对应是什么\n",
    "# 规范以下用法，矩阵的数学运算一律通过 \"np.\"的方式写\n",
    "# 其他的都是对应元素的运算，比如直接使用 + - * / 都是直接运算—— element wise operation\n",
    "# print(\"+:\\n\", B + B)\n",
    "# print(\"-:\\n\", B - B)\n",
    "# print(\"*:\\n\", B * B)\n",
    "# print(\"/:\\n\", B / B)\n",
    "# print(\"np.multiply():\\n\", np.multiply(B, B)) # 这也是element wise operation\n",
    "# print(\"np.divide():\\n\", np.divide(B, B)) # 这也是element wise operation\n",
    "\n",
    "# 数学矩阵运算\n",
    "# print(\"np.add():\\n\", np.add(B, B)) # 矩阵加法\n",
    "# print(\"np.subtract():\\n\", np.subtract(B, B)) # 矩阵减法\n",
    "# print(\"np.dot():\\n\", np.dot(B, B)) # 矩阵乘法\n",
    "# print(\"np.dot(5):\\n\", np.dot(5, B)) # 数乘\n",
    "'''\n",
    "If both a and b are 1-D arrays, it is inner product of vectors (without complex conjugation).\n",
    "If both a and b are 2-D arrays, it is matrix multiplication, but using matmul or a @ b is preferred.\n",
    "If either a or b is 0-D (scalar), it is equivalent to multiply and using numpy.multiply(a, b) or a * b is preferred.\n",
    "If a is an N-D array and b is a 1-D array, it is a sum product over the last axis of a and b.\n",
    "If a is an N-D array and b is an M-D array (where M>=2), it is a sum product over the last axis of a and the second-to-last axis of b:\n",
    "dot(a, b)[i,j,k,m] = sum(a[i,j,:] * b[k,:,m])\n",
    "'''\n",
    "# 矩阵除法就是乘以矩阵的逆矩阵\n",
    "print(\"逆:\\n\", np.linalg.inv(B)) # 矩阵求逆\n",
    "print(\"矩阵除法:\\n\", np.dot(np.linalg.inv(B), B))\n",
    "print(\"逆:\\n\", np.matrix(B).I) # 矩阵求逆\n",
    "print(\"矩阵除法:\\n\", np.dot(np.matrix(B).I, B))\n",
    "print(\"逆:\\n\", np.matrix(B).getI()) # 矩阵求逆\n",
    "print(\"矩阵除法:\\n\", np.dot(np.matrix(B).getI(), B))\n",
    "print(\"伪逆:\\n\", np.linalg.pinv(B)) # 矩阵求伪逆 pseudo-inverse\n",
    "print(\"矩阵除法:\\n\", np.dot(np.linalg.pinv(B), B))\n"
   ]
  },
  {
   "cell_type": "code",
   "execution_count": null,
   "metadata": {},
   "outputs": [
    {
     "name": "stdout",
     "output_type": "stream",
     "text": [
      "[[5 9]\n",
      " [1 2]\n",
      " [1 2]] \n",
      "\n",
      "[[25 81]\n",
      " [ 1  4]\n",
      " [ 1  4]] \n",
      "\n",
      "[[5 1 1]\n",
      " [9 2 2]] \n",
      "\n",
      "[[5 1 1]\n",
      " [9 2 2]] \n",
      "\n",
      "[[5 1 1]\n",
      " [9 2 2]] \n",
      "\n"
     ]
    }
   ],
   "source": [
    "# 矩阵转置，三种转置的方法\n",
    "print(A, '\\n')\n",
    "print(A * A, '\\n')\n",
    "print(A.transpose(), '\\n')\n",
    "print(A.T, '\\n')\n",
    "print(np.transpose(A), '\\n') #  A view is returned whenever possible. 注意返回的值很可能是索引\n"
   ]
  },
  {
   "cell_type": "markdown",
   "metadata": {
    "slideshow": {
     "slide_type": "subslide"
    }
   },
   "source": [
    "多项式函数:  \n",
    "`numpy` provides `poly1d` to represent polynomial functions of one variable.  \n",
    "\n",
    "Let's represent the following function:\n",
    "\n",
    "$$f(x) = 5x^5 - x^4 - 4x^3 + x^2 + 3x - 0.6$$"
   ]
  },
  {
   "cell_type": "code",
   "execution_count": 4,
   "metadata": {
    "slideshow": {
     "slide_type": "fragment"
    }
   },
   "outputs": [],
   "source": [
    "p = np.poly1d([5,-1,-4,1,3, -0.6]) # 返回单变量多项式函数"
   ]
  },
  {
   "cell_type": "code",
   "execution_count": 6,
   "metadata": {
    "slideshow": {
     "slide_type": "fragment"
    }
   },
   "outputs": [
    {
     "data": {
      "image/png": "[encoded data removed]",
      "text/plain": [
       "<Figure size 640x480 with 1 Axes>"
      ]
     },
     "metadata": {},
     "output_type": "display_data"
    }
   ],
   "source": [
    "from matplotlib import pyplot as plt\n",
    "xran=np.arange(-20,20,0.1)\n",
    "plt.plot(xran, p(xran))\n",
    "plt.axhline(0, color='black',alpha=0.9)\n",
    "plt.axvline(0, color='black',alpha=0.3);"
   ]
  },
  {
   "cell_type": "markdown",
   "metadata": {
    "slideshow": {
     "slide_type": "slide"
    }
   },
   "source": [
    "#### Random simulations"
   ]
  },
  {
   "cell_type": "markdown",
   "metadata": {
    "slideshow": {
     "slide_type": "subslide"
    }
   },
   "source": [
    "Simple random number generation.\n",
    "\n",
    "It is simple to generate random numbers. You can use the `np.random.random` function (also `random.random`):"
   ]
  },
  {
   "cell_type": "markdown",
   "metadata": {
    "slideshow": {
     "slide_type": "fragment"
    }
   },
   "source": [
    "Generate a float number between 0 and 1:"
   ]
  },
  {
   "cell_type": "code",
   "execution_count": null,
   "metadata": {
    "slideshow": {
     "slide_type": "fragment"
    }
   },
   "outputs": [
    {
     "data": {
      "text/plain": [
       "0.8406226469536449"
      ]
     },
     "execution_count": 159,
     "metadata": {},
     "output_type": "execute_result"
    }
   ],
   "source": [
    "p = np.random.random() # 产生一个 [0.0, 1.0) 之间的随机数\n",
    "p"
   ]
  },
  {
   "cell_type": "markdown",
   "metadata": {
    "slideshow": {
     "slide_type": "subslide"
    }
   },
   "source": [
    "Generate a random integer between 0 and 10:"
   ]
  },
  {
   "cell_type": "code",
   "execution_count": null,
   "metadata": {
    "slideshow": {
     "slide_type": "fragment"
    }
   },
   "outputs": [
    {
     "data": {
      "text/plain": [
       "3"
      ]
     },
     "execution_count": 160,
     "metadata": {},
     "output_type": "execute_result"
    }
   ],
   "source": [
    "p = int(np.random.random()*10)\n",
    "p"
   ]
  },
  {
   "cell_type": "code",
   "execution_count": null,
   "metadata": {
    "slideshow": {
     "slide_type": "fragment"
    }
   },
   "outputs": [
    {
     "data": {
      "text/plain": [
       "7"
      ]
     },
     "execution_count": 161,
     "metadata": {},
     "output_type": "execute_result"
    }
   ],
   "source": [
    "p = np.random.randint(0,10)\n",
    "p"
   ]
  },
  {
   "cell_type": "markdown",
   "metadata": {
    "slideshow": {
     "slide_type": "subslide"
    }
   },
   "source": [
    "Simple random number guessing game:"
   ]
  },
  {
   "cell_type": "code",
   "execution_count": null,
   "metadata": {
    "slideshow": {
     "slide_type": "fragment"
    }
   },
   "outputs": [],
   "source": [
    "num = int(input().strip())\n",
    "while num != -1:\n",
    "    p = np.random.randint(0,10)\n",
    "    if num == p:\n",
    "        print (\"You guessed!\")\n",
    "        break\n",
    "    else:\n",
    "        print (\"Fail!\")\n",
    "    num = int(input().strip())"
   ]
  },
  {
   "cell_type": "markdown",
   "metadata": {
    "slideshow": {
     "slide_type": "subslide"
    }
   },
   "source": [
    "Roll a dice. Which number will come out?"
   ]
  },
  {
   "cell_type": "code",
   "execution_count": null,
   "metadata": {
    "slideshow": {
     "slide_type": "fragment"
    }
   },
   "outputs": [
    {
     "data": {
      "text/plain": [
       "4"
      ]
     },
     "execution_count": 163,
     "metadata": {},
     "output_type": "execute_result"
    }
   ],
   "source": [
    "np.random.randint(1,7)"
   ]
  },
  {
   "cell_type": "markdown",
   "metadata": {},
   "source": [
    "# Summary\n",
    "\n",
    "+ Numpy: a powerful library for numeric calculation\n",
    "+ Array: an efficient replacement for lists\n",
    "+ Linear algebra with Numpy - vector, matrix, addition, and multiplication\n",
    "+ Spam detection\n",
    "+ Parametric functions\n",
    "+ Random numbers"
   ]
  }
 ],
 "metadata": {
  "celltoolbar": "Slideshow",
  "kernelspec": {
   "display_name": "base",
   "language": "python",
   "name": "python3"
  },
  "language_info": {
   "codemirror_mode": {
    "name": "ipython",
    "version": 3
   },
   "file_extension": ".py",
   "mimetype": "text/x-python",
   "name": "python",
   "nbconvert_exporter": "python",
   "pygments_lexer": "ipython3",
   "version": "3.11.4"
  }
 },
 "nbformat": 4,
 "nbformat_minor": 2
}
